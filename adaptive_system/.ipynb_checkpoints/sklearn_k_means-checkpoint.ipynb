{
 "cells": [
  {
   "cell_type": "code",
   "execution_count": 72,
   "metadata": {},
   "outputs": [],
   "source": [
    "from __future__ import absolute_import\n",
    "from __future__ import division\n",
    "from __future__ import print_function\n",
    "\n",
    "import numpy as np\n",
    "import matplotlib\n",
    "import matplotlib.pyplot as plt\n",
    "from mpl_toolkits.mplot3d import Axes3D\n",
    "%matplotlib inline\n",
    "import pandas as pd\n",
    "import sklearn.cluster as skc\n",
    "from scipy.spatial.distance import cdist\n",
    "import sys\n",
    "\n",
    "from utils import utils"
   ]
  },
  {
   "cell_type": "code",
   "execution_count": 133,
   "metadata": {},
   "outputs": [],
   "source": [
    "RANGE = 10\n",
    "COLORS = [\n",
    "    'red',\n",
    "    'blue',\n",
    "    'green',\n",
    "    'cyan',\n",
    "    'magenta',\n",
    "    'yellow',\n",
    "    'purple',\n",
    "    'orange',\n",
    "    'lime',\n",
    "    'pink',\n",
    "    'yellowgreen',\n",
    "    'brown',\n",
    "    'coral',\n",
    "    'indigo',\n",
    "    'ivory',\n",
    "    'khaki',\n",
    "    'lavender',\n",
    "    'lightblue',\n",
    "    'lightgreen',\n",
    "    'maroon',\n",
    "    'orchid',\n",
    "    'tan',\n",
    "    'aqua',\n",
    "    'black',\n",
    "    'white'\n",
    "]"
   ]
  },
  {
   "cell_type": "code",
   "execution_count": 3,
   "metadata": {},
   "outputs": [],
   "source": [
    "# Read and shuffle data.\n",
    "df = pd.read_csv('mission_1.csv')\n",
    "\n",
    "data = []\n",
    "for _, d in df.iterrows():\n",
    "    data.append(d.tolist()[1:])\n",
    "data = np.array(data)\n",
    "np.random.shuffle(data)"
   ]
  },
  {
   "cell_type": "code",
   "execution_count": 4,
   "metadata": {
    "scrolled": true
   },
   "outputs": [],
   "source": [
    "# Separate actions and query information.\n",
    "query_attributes = data[:, :-1]\n",
    "actions = data[:, -1].astype(np.int32)"
   ]
  },
  {
   "cell_type": "code",
   "execution_count": 5,
   "metadata": {},
   "outputs": [],
   "source": [
    "test = query_attributes[-1]\n",
    "data = query_attributes[:-1]"
   ]
  },
  {
   "cell_type": "code",
   "execution_count": 6,
   "metadata": {},
   "outputs": [],
   "source": [
    "data_norm = utils.min_max_normalization(query_attributes)"
   ]
  },
  {
   "cell_type": "code",
   "execution_count": null,
   "metadata": {},
   "outputs": [],
   "source": [
    "# ONLY FOR 3D GRAPH\n",
    "fig = plt.figure()\n",
    "ax = fig.add_subplot(111, projection='3d')\n",
    "ax.scatter(data_norm[:, 0], data_norm[:, 1], data_norm[:, 2], c='b', marker='o')\n",
    "ax.set_xlabel('Type')\n",
    "ax.set_ylabel('Confidence')\n",
    "ax.set_zlabel('Action')"
   ]
  },
  {
   "cell_type": "code",
   "execution_count": 118,
   "metadata": {},
   "outputs": [
    {
     "data": {
      "text/plain": [
       "<matplotlib.text.Text at 0x7f252a893610>"
      ]
     },
     "execution_count": 118,
     "metadata": {},
     "output_type": "execute_result"
    },
    {
     "data": {
      "image/png": "[encoded data removed]",
      "text/plain": [
       "<matplotlib.figure.Figure at 0x7f2528f079d0>"
      ]
     },
     "metadata": {},
     "output_type": "display_data"
    }
   ],
   "source": [
    "# ONLY FOR 2D GRAPH\n",
    "plt.scatter(data_norm[:, 0], data_norm[:, 1], marker = \"o\")\n",
    "plt.xlabel('Type')\n",
    "plt.ylabel('Confidence')"
   ]
  },
  {
   "cell_type": "code",
   "execution_count": 9,
   "metadata": {},
   "outputs": [],
   "source": [
    "# Elbow method for k means\n",
    "cluster_inertia = []\n",
    "for k in xrange(1, RANGE):\n",
    "    k_means_model = skc.KMeans(n_clusters=k).fit(data)\n",
    "    cluster_inertia.append(k_means_model.inertia_)"
   ]
  },
  {
   "cell_type": "code",
   "execution_count": 10,
   "metadata": {},
   "outputs": [
    {
     "data": {
      "text/plain": [
       "[<matplotlib.lines.Line2D at 0x7f2537123310>]"
      ]
     },
     "execution_count": 10,
     "metadata": {},
     "output_type": "execute_result"
    },
    {
     "data": {
      "image/png": "[encoded data removed]",
      "text/plain": [
       "<matplotlib.figure.Figure at 0x7f2537223a50>"
      ]
     },
     "metadata": {},
     "output_type": "display_data"
    }
   ],
   "source": [
    "plt.plot(xrange(1, RANGE), cluster_inertia, marker='o')"
   ]
  },
  {
   "cell_type": "code",
   "execution_count": 70,
   "metadata": {
    "scrolled": true
   },
   "outputs": [
    {
     "name": "stdout",
     "output_type": "stream",
     "text": [
      "[ 0  1  2  3  2  1  1  2  4  4  0  5  2  4  1  6  1  3  7  6  6  3  4  3  5\n",
      "  0  2  1  3  3  2  4  7  3  7  8  2  2  5  5  0  3  6  1  0  2  6  3  4  1\n",
      "  1  1  9  6 -1  1 10  2  1  4  1  5  4  4  9  2  4  6  4  8  3  2  1  2  2\n",
      "  0  3  2  3  1  1  4  0  4  4  5  3  4  2  0  6  0  0  8  0  2  1  5  9  1\n",
      "  4  1  3  3  6  2  0  4  2  4  4  1  2  5  5  2  4  4  3  4  2  0  8  4  6\n",
      "  1  1  5  3  4  1  6  1  9  4  2  3  6  3  5  2  1  9  4  1  2  4  2  1  1\n",
      "  1  6  4  1  4  3  0  4  2  6  1 10 10  4  3  6  2  9  3  2  8  4  4  8 10\n",
      "  1  3  7  4  2  4 10  7  3  6  6  4  3  6  9  0 10  7  7  3  4  3  6  4  2\n",
      "  3  0  0  2  4  4  3  0]\n"
     ]
    }
   ],
   "source": [
    "#k_means_model = skc.KMeans(n_clusters=3).fit(data_norm)\n",
    "#k_means_model = skc.MiniBatchKMeans(n_clusters=3).fit(data_norm)\n",
    "#k_means_model = skc.AffinityPropagation(preference=-50).fit(data_norm)\n",
    "#bandwidth = skc.estimate_bandwidth(data_norm, quantile=0.2, n_samples=50)\n",
    "#k_means_model = skc.MeanShift(bandwidth=bandwidth, bin_seeding=True)\n",
    "k_means_model = skc.DBSCAN(eps=0.02, min_samples=2).fit(data_norm)\n",
    "\n",
    "#centroids = k_means_model.cluster_centers_\n",
    "labels = k_means_model.labels_\n",
    "\n",
    "#print(centroids)\n",
    "print(labels)"
   ]
  },
  {
   "cell_type": "code",
   "execution_count": null,
   "metadata": {},
   "outputs": [],
   "source": [
    "# ONLY FOR 3D GRAPH\n",
    "fig = plt.figure()\n",
    "ax = fig.add_subplot(111, projection='3d')\n",
    "for i in xrange(data_norm.shape[0]):\n",
    "    ax.scatter(data_norm[i][0], data_norm[i][1], data_norm[i][2], c=COLORS[labels[i]], marker='o')\n",
    "ax.set_xlabel('Type')\n",
    "ax.set_ylabel('Confidence')\n",
    "ax.set_zlabel('Action')"
   ]
  },
  {
   "cell_type": "code",
   "execution_count": 134,
   "metadata": {
    "scrolled": true
   },
   "outputs": [
    {
     "data": {
      "text/plain": [
       "<matplotlib.text.Text at 0x7f2523506790>"
      ]
     },
     "execution_count": 134,
     "metadata": {},
     "output_type": "execute_result"
    },
    {
     "data": {
      "image/png": "[encoded data removed]",
      "text/plain": [
       "<matplotlib.figure.Figure at 0x7f2522c68150>"
      ]
     },
     "metadata": {},
     "output_type": "display_data"
    }
   ],
   "source": [
    "# ONLY FOR 2D GRAPH\n",
    "for i in xrange(data_norm.shape[0]):\n",
    "    plt.scatter(data_norm[:, 0][i], data_norm[:, 1][i], color=COLORS[labels[i]])\n",
    "\n",
    "#plt.scatter(centroids[:, 0], centroids[:, 1], marker = \"x\", s=50, zorder = 10)\n",
    "plt.xlabel('Type')\n",
    "plt.ylabel('Confidence')"
   ]
  },
  {
   "cell_type": "code",
   "execution_count": 43,
   "metadata": {
    "scrolled": false
   },
   "outputs": [
    {
     "name": "stdout",
     "output_type": "stream",
     "text": [
      "[204  91  36]\n",
      "[ 0.06566068  0.00854717  0.08333418]\n"
     ]
    }
   ],
   "source": [
    "# get prototype from cluster based on centroid\n",
    "centroid_shape = centroids.shape[0]\n",
    "\n",
    "prototypes = np.zeros(centroid_shape, dtype=np.int32)\n",
    "distances = np.zeros(centroid_shape)\n",
    "\n",
    "for i in xrange(centroid_shape):\n",
    "    for j in xrange(labels.shape[0]):\n",
    "        if labels[j] == i:\n",
    "            dist = np.linalg.norm(centroids[i] - data_norm[j])\n",
    "            \n",
    "            if not prototypes[i]:\n",
    "                prototypes[i] = j\n",
    "                distances[i] = dist\n",
    "                continue\n",
    "                \n",
    "            if dist < distances[i]:\n",
    "                prototypes[i] = j\n",
    "                distances[i] = dist\n",
    "                \n",
    "print(prototypes)\n",
    "print(distances)"
   ]
  },
  {
   "cell_type": "code",
   "execution_count": 46,
   "metadata": {
    "scrolled": true
   },
   "outputs": [
    {
     "name": "stdout",
     "output_type": "stream",
     "text": [
      "[ 2.          0.49650559]\n",
      "[ 5.          0.44464411]\n",
      "[ 1.          0.48530192]\n"
     ]
    }
   ],
   "source": [
    "# print prototype data\n",
    "for p in prototypes:\n",
    "    print(data[p])"
   ]
  },
  {
   "cell_type": "markdown",
   "metadata": {},
   "source": [
    "### The robot [action] when presented with a [type] query with a confidence [confidence]%.\n",
    "### Which action would you prefer for the robot to make next time:\n",
    "### 1 - Same action\n",
    "### 2, 3 - Next two"
   ]
  },
  {
   "cell_type": "code",
   "execution_count": 48,
   "metadata": {},
   "outputs": [],
   "source": [
    "def display_question(survey, action_taken):\n",
    "    sys.stdout.write('The robot ')\n",
    "    if action_taken == 0:\n",
    "        sys.stdout.write('was fully autonomous')\n",
    "    elif action_taken == 1:\n",
    "        sys.stdout.write('stopped and waited for your input')\n",
    "    elif action_taken == 2:\n",
    "        sys.stdout.write('continued its task and asked for your answer later')\n",
    "\n",
    "    sys.stdout.write(' when presented with a ')\n",
    "\n",
    "    if int(survey[0]) == 0:\n",
    "        sys.stdout.write('visual')\n",
    "    elif int(survey[0]) == 1:\n",
    "        sys.stdout.write('tagging')\n",
    "    elif int(survey[0]) == 2:\n",
    "        sys.stdout.write('path')\n",
    "    elif int(survey[0]) == 3:\n",
    "        sys.stdout.write('communication')\n",
    "    elif int(survey[0]) == 4:\n",
    "        sys.stdout.write('robot health')\n",
    "    elif int(survey[0]) == 5:\n",
    "        sys.stdout.write('audio')\n",
    "    elif int(survey[0]) == 6:\n",
    "        sys.stdout.write('task')\n",
    "\n",
    "    sys.stdout.write(' query with a confidence of ')\n",
    "\n",
    "    sys.stdout.write('{}%\\n'.format(int(survey[1]*100)))"
   ]
  },
  {
   "cell_type": "code",
   "execution_count": 49,
   "metadata": {
    "scrolled": false
   },
   "outputs": [],
   "source": [
    "def survey_func(survey, action_taken):\n",
    "    display_question(survey, action_taken)\n",
    "    \n",
    "    sys.stdout.write('Which action would you prefer for the robot to make next time:\\n')\n",
    "    sys.stdout.write('1 - Same action\\n')\n",
    "    if action_taken == 0:\n",
    "        sys.stdout.write('2 - Stop and ask\\n')\n",
    "        sys.stdout.write('3 - Continue but still ask\\n')\n",
    "        \n",
    "        result = input()\n",
    "        if result == 1:\n",
    "            return 0\n",
    "        elif result == 2:\n",
    "            return 1\n",
    "        elif result == 3:\n",
    "            return 2\n",
    "    elif action_taken == 1:\n",
    "        sys.stdout.write('2 - Fully autonomous\\n')\n",
    "        sys.stdout.write('3 - Continue but still ask\\n')\n",
    "        \n",
    "        result = input()\n",
    "        if result == 1:\n",
    "            return 1\n",
    "        elif result == 2:\n",
    "            return 0\n",
    "        elif result == 3:\n",
    "            return 2\n",
    "    elif action_taken == 2:\n",
    "        sys.stdout.write('2 - Fully autonomous\\n')\n",
    "        sys.stdout.write('3 - Stop and ask\\n')\n",
    "        \n",
    "        result = input()\n",
    "        if result == 1:\n",
    "            return 2\n",
    "        elif result == 2:\n",
    "            return 0\n",
    "        elif result == 3:\n",
    "            return 1"
   ]
  },
  {
   "cell_type": "code",
   "execution_count": 51,
   "metadata": {
    "scrolled": false
   },
   "outputs": [
    {
     "name": "stdout",
     "output_type": "stream",
     "text": [
      "The robot stopped and waited for your input when presented with a path query with a confidence of 49%\n",
      "Which action would you prefer for the robot to make next time:\n",
      "1 - Same action\n",
      "2 - Fully autonomous\n",
      "3 - Continue but still ask\n",
      "1\n",
      "The robot stopped and waited for your input when presented with a audio query with a confidence of 44%\n",
      "Which action would you prefer for the robot to make next time:\n",
      "1 - Same action\n",
      "2 - Fully autonomous\n",
      "3 - Continue but still ask\n",
      "1\n",
      "The robot stopped and waited for your input when presented with a tagging query with a confidence of 48%\n",
      "Which action would you prefer for the robot to make next time:\n",
      "1 - Same action\n",
      "2 - Fully autonomous\n",
      "3 - Continue but still ask\n",
      "1\n"
     ]
    }
   ],
   "source": [
    "cluster_labels = dict()\n",
    "for p in prototypes:\n",
    "    preferred_action = survey_func(data[p], actions[p])\n",
    "    cluster_labels[labels[p]] = preferred_action"
   ]
  },
  {
   "cell_type": "code",
   "execution_count": 52,
   "metadata": {},
   "outputs": [
    {
     "data": {
      "text/plain": [
       "{0: 1, 1: 1, 2: 1}"
      ]
     },
     "execution_count": 52,
     "metadata": {},
     "output_type": "execute_result"
    }
   ],
   "source": [
    "cluster_labels"
   ]
  },
  {
   "cell_type": "code",
   "execution_count": null,
   "metadata": {
    "scrolled": true
   },
   "outputs": [],
   "source": [
    "for t in test:\n",
    "    c_predict = k_means_model.predict([t])[0]\n",
    "    action = cluster_labels[c_predict]\n",
    "    if t[-1] != action:\n",
    "        print('Before:')\n",
    "        display_question(t)\n",
    "        t[-1] = action\n",
    "        print('After:')\n",
    "        display_question(t)\n",
    "        print()"
   ]
  }
 ],
 "metadata": {
  "kernelspec": {
   "display_name": "Python 2",
   "language": "python",
   "name": "python2"
  },
  "language_info": {
   "codemirror_mode": {
    "name": "ipython",
    "version": 2
   },
   "file_extension": ".py",
   "mimetype": "text/x-python",
   "name": "python",
   "nbconvert_exporter": "python",
   "pygments_lexer": "ipython2",
   "version": "2.7.12"
  }
 },
 "nbformat": 4,
 "nbformat_minor": 2
}
