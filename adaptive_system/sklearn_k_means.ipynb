{
 "cells": [
  {
   "cell_type": "code",
   "execution_count": 1,
   "metadata": {
    "collapsed": true
   },
   "outputs": [],
   "source": [
    "from __future__ import absolute_import\n",
    "from __future__ import division\n",
    "from __future__ import print_function\n",
    "\n",
    "import numpy as np\n",
    "import matplotlib.pyplot as plt\n",
    "from mpl_toolkits.mplot3d import Axes3D\n",
    "%matplotlib inline\n",
    "import pandas as pd\n",
    "import sklearn.cluster as skc\n",
    "from scipy.spatial.distance import cdist\n",
    "import sys\n",
    "\n",
    "from utils import utils"
   ]
  },
  {
   "cell_type": "code",
   "execution_count": 2,
   "metadata": {
    "collapsed": true
   },
   "outputs": [],
   "source": [
    "RANGE = 10"
   ]
  },
  {
   "cell_type": "code",
   "execution_count": 8,
   "metadata": {
    "collapsed": true
   },
   "outputs": [],
   "source": [
    "# Read and shuffle data.\n",
    "df = pd.read_csv('mission_1.csv')\n",
    "\n",
    "data = []\n",
    "for _, d in df.iterrows():\n",
    "    data.append(d.tolist()[1:])\n",
    "data = np.array(data)\n",
    "np.random.shuffle(data)"
   ]
  },
  {
   "cell_type": "code",
   "execution_count": 19,
   "metadata": {
    "collapsed": true
   },
   "outputs": [],
   "source": [
    "# Separate actions and query information.\n",
    "query_attributes = data[:, :-1]\n",
    "actions = data[:, -1]"
   ]
  },
  {
   "cell_type": "code",
   "execution_count": null,
   "metadata": {
    "collapsed": true
   },
   "outputs": [],
   "source": [
    "test = data[-1:]\n",
    "data = data[:-1]"
   ]
  },
  {
   "cell_type": "code",
   "execution_count": 9,
   "metadata": {
    "collapsed": true
   },
   "outputs": [],
   "source": [
    "data_norm = utils.min_max_normalization(data)"
   ]
  },
  {
   "cell_type": "code",
   "execution_count": 10,
   "metadata": {},
   "outputs": [
    {
     "data": {
      "text/plain": [
       "array([[  6.00000000e+00,   4.67560959e-01],\n",
       "       [  4.00000000e+00,   9.70261313e-02],\n",
       "       [  2.00000000e+00,   6.79279255e-01],\n",
       "       [  2.00000000e+00,   5.55433646e-01],\n",
       "       [  1.00000000e+00,   9.50097407e-01],\n",
       "       [  2.00000000e+00,   5.34636352e-01],\n",
       "       [  0.00000000e+00,   5.00881870e-03],\n",
       "       [  6.00000000e+00,   4.07627500e-04],\n",
       "       [  0.00000000e+00,   1.09804458e-02],\n",
       "       [  1.00000000e+00,   5.43797095e-01],\n",
       "       [  1.00000000e+00,   8.71203621e-01],\n",
       "       [  5.00000000e+00,   6.16247369e-02],\n",
       "       [  2.00000000e+00,   1.64416638e-01],\n",
       "       [  3.00000000e+00,   8.79860150e-01],\n",
       "       [  2.00000000e+00,   5.13854036e-01],\n",
       "       [  3.00000000e+00,   8.32103039e-01],\n",
       "       [  0.00000000e+00,   1.44274851e-01],\n",
       "       [  6.00000000e+00,   1.28697729e-01],\n",
       "       [  4.00000000e+00,   5.74593057e-01],\n",
       "       [  1.00000000e+00,   1.33686552e-01],\n",
       "       [  3.00000000e+00,   2.59220424e-01],\n",
       "       [  4.00000000e+00,   8.10956240e-01],\n",
       "       [  2.00000000e+00,   2.77913095e-01],\n",
       "       [  2.00000000e+00,   9.49211394e-01],\n",
       "       [  6.00000000e+00,   9.09287051e-01],\n",
       "       [  6.00000000e+00,   4.42341612e-01],\n",
       "       [  2.00000000e+00,   2.00205329e-01],\n",
       "       [  6.00000000e+00,   8.99318543e-02],\n",
       "       [  6.00000000e+00,   4.23516768e-01],\n",
       "       [  4.00000000e+00,   3.35370472e-02],\n",
       "       [  1.00000000e+00,   4.85301915e-01],\n",
       "       [  6.00000000e+00,   3.41869371e-02],\n",
       "       [  1.00000000e+00,   6.77437802e-02],\n",
       "       [  4.00000000e+00,   7.24024271e-01],\n",
       "       [  6.00000000e+00,   7.11486136e-01],\n",
       "       [  6.00000000e+00,   1.02101948e-01],\n",
       "       [  0.00000000e+00,   4.01779263e-01],\n",
       "       [  2.00000000e+00,   2.68673051e-02],\n",
       "       [  4.00000000e+00,   1.29576074e-01],\n",
       "       [  0.00000000e+00,   9.85850869e-01],\n",
       "       [  3.00000000e+00,   8.37868600e-04],\n",
       "       [  1.00000000e+00,   3.73643691e-01],\n",
       "       [  2.00000000e+00,   3.15939972e-02],\n",
       "       [  2.00000000e+00,   8.86238211e-01],\n",
       "       [  4.00000000e+00,   6.86462506e-01],\n",
       "       [  2.00000000e+00,   3.70192864e-01],\n",
       "       [  4.00000000e+00,   1.75856945e-02],\n",
       "       [  4.00000000e+00,   7.83604491e-01],\n",
       "       [  4.00000000e+00,   4.27919115e-01],\n",
       "       [  6.00000000e+00,   8.32789457e-01],\n",
       "       [  3.00000000e+00,   9.28655363e-02],\n",
       "       [  2.00000000e+00,   8.92249261e-01],\n",
       "       [  0.00000000e+00,   7.16376608e-01],\n",
       "       [  1.00000000e+00,   8.84601714e-01],\n",
       "       [  5.00000000e+00,   3.06932712e-01],\n",
       "       [  1.00000000e+00,   2.65169118e-01],\n",
       "       [  5.00000000e+00,   6.13067808e-01],\n",
       "       [  1.00000000e+00,   2.96889270e-01],\n",
       "       [  6.00000000e+00,   6.16045338e-01],\n",
       "       [  3.00000000e+00,   3.10864552e-01],\n",
       "       [  4.00000000e+00,   3.05945586e-01],\n",
       "       [  5.00000000e+00,   1.00480437e-01],\n",
       "       [  1.00000000e+00,   3.95011177e-01],\n",
       "       [  1.00000000e+00,   3.11150468e-01],\n",
       "       [  2.00000000e+00,   9.34301219e-01],\n",
       "       [  2.00000000e+00,   7.70281370e-01],\n",
       "       [  1.00000000e+00,   7.38924442e-01],\n",
       "       [  1.00000000e+00,   1.66031986e-01],\n",
       "       [  4.00000000e+00,   4.08808304e-01],\n",
       "       [  2.00000000e+00,   2.81213935e-01],\n",
       "       [  4.00000000e+00,   9.66554575e-01],\n",
       "       [  4.00000000e+00,   5.92845000e-01],\n",
       "       [  5.00000000e+00,   7.70229284e-01],\n",
       "       [  5.00000000e+00,   2.46623298e-02],\n",
       "       [  0.00000000e+00,   9.21951921e-01],\n",
       "       [  5.00000000e+00,   5.25030339e-01],\n",
       "       [  6.00000000e+00,   1.18420401e-01],\n",
       "       [  6.00000000e+00,   6.30399609e-01],\n",
       "       [  5.00000000e+00,   1.44536038e-02],\n",
       "       [  1.00000000e+00,   5.33990231e-01],\n",
       "       [  1.00000000e+00,   7.64902389e-01],\n",
       "       [  6.00000000e+00,   9.21794385e-01],\n",
       "       [  3.00000000e+00,   3.92376063e-01],\n",
       "       [  4.00000000e+00,   8.14530964e-01],\n",
       "       [  4.00000000e+00,   4.40313432e-01],\n",
       "       [  0.00000000e+00,   9.00590720e-03],\n",
       "       [  3.00000000e+00,   3.05378738e-01],\n",
       "       [  2.00000000e+00,   3.68746579e-01],\n",
       "       [  3.00000000e+00,   5.15891337e-01],\n",
       "       [  3.00000000e+00,   5.97107250e-01],\n",
       "       [  5.00000000e+00,   7.14183098e-01],\n",
       "       [  5.00000000e+00,   6.42905996e-01],\n",
       "       [  2.00000000e+00,   2.83250137e-01],\n",
       "       [  2.00000000e+00,   7.19423682e-01],\n",
       "       [  5.00000000e+00,   2.91342305e-01],\n",
       "       [  5.00000000e+00,   1.24989948e-01],\n",
       "       [  6.00000000e+00,   9.55851445e-01],\n",
       "       [  1.00000000e+00,   5.72250830e-01],\n",
       "       [  2.00000000e+00,   3.19804237e-01],\n",
       "       [  4.00000000e+00,   7.38168785e-01],\n",
       "       [  6.00000000e+00,   5.22258986e-01],\n",
       "       [  2.00000000e+00,   8.14904826e-01],\n",
       "       [  3.00000000e+00,   3.61173001e-01],\n",
       "       [  5.00000000e+00,   2.50896792e-01],\n",
       "       [  2.00000000e+00,   8.13304409e-01],\n",
       "       [  4.00000000e+00,   3.10469566e-02],\n",
       "       [  0.00000000e+00,   2.34192236e-01],\n",
       "       [  3.00000000e+00,   6.85879865e-01],\n",
       "       [  2.00000000e+00,   1.74783719e-01],\n",
       "       [  1.00000000e+00,   6.01519579e-01],\n",
       "       [  1.00000000e+00,   5.69106627e-01],\n",
       "       [  5.00000000e+00,   6.40733824e-01],\n",
       "       [  5.00000000e+00,   3.03966348e-01],\n",
       "       [  3.00000000e+00,   9.68251902e-01],\n",
       "       [  2.00000000e+00,   2.01880355e-01],\n",
       "       [  0.00000000e+00,   8.13425507e-01],\n",
       "       [  0.00000000e+00,   2.99304509e-01],\n",
       "       [  2.00000000e+00,   2.06865111e-01],\n",
       "       [  6.00000000e+00,   3.69865997e-01],\n",
       "       [  3.00000000e+00,   5.52486311e-01],\n",
       "       [  1.00000000e+00,   2.43131654e-01],\n",
       "       [  1.00000000e+00,   6.44197898e-01],\n",
       "       [  2.00000000e+00,   4.74983792e-01],\n",
       "       [  5.00000000e+00,   4.53889189e-02],\n",
       "       [  1.00000000e+00,   3.01126685e-01],\n",
       "       [  2.00000000e+00,   8.64757287e-01],\n",
       "       [  5.00000000e+00,   6.32888267e-01],\n",
       "       [  0.00000000e+00,   1.68997268e-01],\n",
       "       [  4.00000000e+00,   6.70606817e-01],\n",
       "       [  3.00000000e+00,   4.08298102e-01],\n",
       "       [  2.00000000e+00,   1.36733010e-03],\n",
       "       [  0.00000000e+00,   9.08931667e-01],\n",
       "       [  2.00000000e+00,   6.89836738e-01],\n",
       "       [  5.00000000e+00,   9.33343888e-01],\n",
       "       [  5.00000000e+00,   4.44644113e-01],\n",
       "       [  2.00000000e+00,   4.96505593e-01],\n",
       "       [  1.00000000e+00,   1.98047223e-01],\n",
       "       [  6.00000000e+00,   7.95226298e-01],\n",
       "       [  6.00000000e+00,   1.84956023e-01],\n",
       "       [  3.00000000e+00,   6.80418073e-01],\n",
       "       [  0.00000000e+00,   7.32727544e-01],\n",
       "       [  2.00000000e+00,   9.90135797e-01],\n",
       "       [  6.00000000e+00,   6.94595807e-01],\n",
       "       [  2.00000000e+00,   3.36379766e-01],\n",
       "       [  3.00000000e+00,   1.93067621e-01],\n",
       "       [  0.00000000e+00,   4.61170002e-01],\n",
       "       [  0.00000000e+00,   8.18424086e-01],\n",
       "       [  3.00000000e+00,   1.98234520e-01],\n",
       "       [  1.00000000e+00,   5.20735433e-01],\n",
       "       [  6.00000000e+00,   1.74701891e-01],\n",
       "       [  3.00000000e+00,   6.11791070e-01],\n",
       "       [  1.00000000e+00,   1.38762940e-01],\n",
       "       [  5.00000000e+00,   5.97045403e-01],\n",
       "       [  2.00000000e+00,   5.51137684e-02],\n",
       "       [  0.00000000e+00,   4.92093944e-01],\n",
       "       [  1.00000000e+00,   1.42191387e-01],\n",
       "       [  1.00000000e+00,   4.95064468e-02],\n",
       "       [  2.00000000e+00,   6.34309006e-01],\n",
       "       [  0.00000000e+00,   6.77658162e-01],\n",
       "       [  0.00000000e+00,   3.94568652e-01],\n",
       "       [  1.00000000e+00,   5.67809835e-01],\n",
       "       [  3.00000000e+00,   5.73406722e-02],\n",
       "       [  5.00000000e+00,   7.65984490e-01],\n",
       "       [  3.00000000e+00,   9.97696847e-01],\n",
       "       [  6.00000000e+00,   2.29567608e-01],\n",
       "       [  5.00000000e+00,   3.13006861e-01],\n",
       "       [  0.00000000e+00,   6.98373028e-02],\n",
       "       [  6.00000000e+00,   5.28801698e-01],\n",
       "       [  2.00000000e+00,   7.91963053e-01],\n",
       "       [  2.00000000e+00,   9.59297160e-01],\n",
       "       [  2.00000000e+00,   3.56438203e-01],\n",
       "       [  3.00000000e+00,   1.25606457e-01],\n",
       "       [  0.00000000e+00,   3.43698530e-01],\n",
       "       [  3.00000000e+00,   8.11228116e-01],\n",
       "       [  2.00000000e+00,   8.07817202e-02],\n",
       "       [  0.00000000e+00,   7.14622488e-01],\n",
       "       [  0.00000000e+00,   9.91588307e-01],\n",
       "       [  4.00000000e+00,   3.39845431e-01],\n",
       "       [  0.00000000e+00,   8.01683786e-01],\n",
       "       [  2.00000000e+00,   9.75666190e-03],\n",
       "       [  6.00000000e+00,   5.59723582e-01],\n",
       "       [  4.00000000e+00,   6.04782749e-01],\n",
       "       [  0.00000000e+00,   5.33518870e-01],\n",
       "       [  0.00000000e+00,   6.40136703e-01],\n",
       "       [  3.00000000e+00,   9.02245875e-01],\n",
       "       [  0.00000000e+00,   6.78532463e-01],\n",
       "       [  5.00000000e+00,   3.70737513e-01],\n",
       "       [  1.00000000e+00,   5.69272830e-01],\n",
       "       [  1.00000000e+00,   2.23689537e-01],\n",
       "       [  6.00000000e+00,   2.37808301e-01],\n",
       "       [  0.00000000e+00,   2.38039429e-01],\n",
       "       [  4.00000000e+00,   1.24661559e-01],\n",
       "       [  1.00000000e+00,   3.76035280e-01],\n",
       "       [  3.00000000e+00,   3.27550318e-01],\n",
       "       [  4.00000000e+00,   3.35729892e-01],\n",
       "       [  0.00000000e+00,   7.70547787e-01],\n",
       "       [  6.00000000e+00,   3.14680541e-02],\n",
       "       [  1.00000000e+00,   3.75445921e-01],\n",
       "       [  2.00000000e+00,   8.25292270e-01],\n",
       "       [  6.00000000e+00,   6.92857488e-01],\n",
       "       [  5.00000000e+00,   8.26083683e-01],\n",
       "       [  4.00000000e+00,   4.20828100e-01],\n",
       "       [  3.00000000e+00,   8.72878844e-01],\n",
       "       [  0.00000000e+00,   7.15313052e-01],\n",
       "       [  6.00000000e+00,   2.72536949e-01],\n",
       "       [  0.00000000e+00,   7.53259632e-01],\n",
       "       [  0.00000000e+00,   8.80992083e-01]])"
      ]
     },
     "execution_count": 10,
     "metadata": {},
     "output_type": "execute_result"
    }
   ],
   "source": [
    "data"
   ]
  },
  {
   "cell_type": "code",
   "execution_count": 11,
   "metadata": {},
   "outputs": [
    {
     "data": {
      "text/plain": [
       "array([[ 0.72715151, -0.19492167],\n",
       "       [ 0.39381818, -0.25667747],\n",
       "       [ 0.06048484, -0.15963528],\n",
       "       [ 0.06048484, -0.18027622],\n",
       "       [-0.10618182, -0.11449892],\n",
       "       [ 0.06048484, -0.18374243],\n",
       "       [-0.27284849, -0.27201369],\n",
       "       [ 0.72715151, -0.27278055],\n",
       "       [-0.27284849, -0.27101842],\n",
       "       [-0.10618182, -0.18221564],\n",
       "       [-0.10618182, -0.12764789],\n",
       "       [ 0.56048484, -0.2625777 ],\n",
       "       [ 0.06048484, -0.24544572],\n",
       "       [ 0.22715151, -0.12620513],\n",
       "       [ 0.06048484, -0.18720615],\n",
       "       [ 0.22715151, -0.13416465],\n",
       "       [-0.27284849, -0.24880268],\n",
       "       [ 0.72715151, -0.25139887],\n",
       "       [ 0.39381818, -0.17708298],\n",
       "       [-0.10618182, -0.2505674 ],\n",
       "       [ 0.22715151, -0.22964509],\n",
       "       [ 0.39381818, -0.13768912],\n",
       "       [ 0.06048484, -0.22652964],\n",
       "       [ 0.06048484, -0.11464659],\n",
       "       [ 0.72715151, -0.12130065],\n",
       "       [ 0.72715151, -0.19912489],\n",
       "       [ 0.06048484, -0.23948094],\n",
       "       [ 0.72715151, -0.25785985],\n",
       "       [ 0.72715151, -0.20226236],\n",
       "       [ 0.39381818, -0.26725898],\n",
       "       [-0.10618182, -0.19196484],\n",
       "       [ 0.72715151, -0.26715067],\n",
       "       [-0.10618182, -0.26155786],\n",
       "       [ 0.39381818, -0.15217778],\n",
       "       [ 0.72715151, -0.15426747],\n",
       "       [ 0.72715151, -0.2558315 ],\n",
       "       [-0.27284849, -0.20588528],\n",
       "       [ 0.06048484, -0.26837061],\n",
       "       [ 0.39381818, -0.25125248],\n",
       "       [-0.27284849, -0.10854001],\n",
       "       [ 0.22715151, -0.27270885],\n",
       "       [-0.10618182, -0.21057454],\n",
       "       [ 0.06048484, -0.26758283],\n",
       "       [ 0.06048484, -0.12514212],\n",
       "       [ 0.39381818, -0.15843807],\n",
       "       [ 0.06048484, -0.21114968],\n",
       "       [ 0.39381818, -0.26991754],\n",
       "       [ 0.39381818, -0.14224774],\n",
       "       [ 0.39381818, -0.20152864],\n",
       "       [ 0.72715151, -0.13405025],\n",
       "       [ 0.22715151, -0.2573709 ],\n",
       "       [ 0.06048484, -0.12414028],\n",
       "       [-0.27284849, -0.15345239],\n",
       "       [-0.10618182, -0.12541487],\n",
       "       [ 0.56048484, -0.22169304],\n",
       "       [-0.10618182, -0.22865364],\n",
       "       [ 0.56048484, -0.17067052],\n",
       "       [-0.10618182, -0.22336695],\n",
       "       [ 0.72715151, -0.17017427],\n",
       "       [ 0.22715151, -0.22103773],\n",
       "       [ 0.39381818, -0.22185756],\n",
       "       [ 0.56048484, -0.25610175],\n",
       "       [-0.10618182, -0.2070133 ],\n",
       "       [-0.10618182, -0.22099008],\n",
       "       [ 0.06048484, -0.11713162],\n",
       "       [ 0.06048484, -0.14446826],\n",
       "       [-0.10618182, -0.14969442],\n",
       "       [-0.10618182, -0.24517649],\n",
       "       [ 0.39381818, -0.20471377],\n",
       "       [ 0.06048484, -0.2259795 ],\n",
       "       [ 0.39381818, -0.11175606],\n",
       "       [ 0.39381818, -0.17404099],\n",
       "       [ 0.56048484, -0.14447694],\n",
       "       [ 0.56048484, -0.2687381 ],\n",
       "       [-0.27284849, -0.11918984],\n",
       "       [ 0.56048484, -0.18534343],\n",
       "       [ 0.72715151, -0.25311176],\n",
       "       [ 0.72715151, -0.16778189],\n",
       "       [ 0.56048484, -0.27043956],\n",
       "       [-0.10618182, -0.18385012],\n",
       "       [-0.10618182, -0.14536476],\n",
       "       [ 0.72715151, -0.11921609],\n",
       "       [ 0.22715151, -0.20745248],\n",
       "       [ 0.39381818, -0.13709333],\n",
       "       [ 0.39381818, -0.19946292],\n",
       "       [-0.27284849, -0.27134751],\n",
       "       [ 0.22715151, -0.22195204],\n",
       "       [ 0.06048484, -0.21139073],\n",
       "       [ 0.22715151, -0.1868666 ],\n",
       "       [ 0.22715151, -0.17333062],\n",
       "       [ 0.56048484, -0.15381798],\n",
       "       [ 0.56048484, -0.16569749],\n",
       "       [ 0.06048484, -0.22564014],\n",
       "       [ 0.06048484, -0.15294454],\n",
       "       [ 0.56048484, -0.22429144],\n",
       "       [ 0.56048484, -0.25201683],\n",
       "       [ 0.72715151, -0.11353992],\n",
       "       [-0.10618182, -0.17747335],\n",
       "       [ 0.06048484, -0.21954779],\n",
       "       [ 0.39381818, -0.14982036],\n",
       "       [ 0.72715151, -0.18580533],\n",
       "       [ 0.06048484, -0.13703102],\n",
       "       [ 0.22715151, -0.21265299],\n",
       "       [ 0.56048484, -0.23103236],\n",
       "       [ 0.06048484, -0.13729776],\n",
       "       [ 0.39381818, -0.267674  ],\n",
       "       [-0.27284849, -0.23381645],\n",
       "       [ 0.22715151, -0.15853518],\n",
       "       [ 0.06048484, -0.24371787],\n",
       "       [-0.10618182, -0.17259523],\n",
       "       [-0.10618182, -0.17799739],\n",
       "       [ 0.56048484, -0.16605952],\n",
       "       [ 0.56048484, -0.22218743],\n",
       "       [ 0.22715151, -0.11147317],\n",
       "       [ 0.06048484, -0.23920177],\n",
       "       [-0.27284849, -0.13727757],\n",
       "       [-0.27284849, -0.22296441],\n",
       "       [ 0.06048484, -0.23837097],\n",
       "       [ 0.72715151, -0.21120416],\n",
       "       [ 0.22715151, -0.18076744],\n",
       "       [-0.10618182, -0.23232655],\n",
       "       [-0.10618182, -0.16548218],\n",
       "       [ 0.06048484, -0.19368453],\n",
       "       [ 0.56048484, -0.26528367],\n",
       "       [-0.10618182, -0.22266071],\n",
       "       [ 0.06048484, -0.12872228],\n",
       "       [ 0.56048484, -0.16736711],\n",
       "       [-0.27284849, -0.24468228],\n",
       "       [ 0.39381818, -0.16108069],\n",
       "       [ 0.22715151, -0.20479881],\n",
       "       [ 0.06048484, -0.2726206 ],\n",
       "       [-0.27284849, -0.12135988],\n",
       "       [ 0.06048484, -0.1578757 ],\n",
       "       [ 0.56048484, -0.11729118],\n",
       "       [ 0.56048484, -0.19874114],\n",
       "       [ 0.06048484, -0.19009756],\n",
       "       [-0.10618182, -0.23984062],\n",
       "       [ 0.72715151, -0.14031078],\n",
       "       [ 0.72715151, -0.24202249],\n",
       "       [ 0.22715151, -0.15944548],\n",
       "       [-0.27284849, -0.15072723],\n",
       "       [ 0.06048484, -0.10782586],\n",
       "       [ 0.72715151, -0.15708252],\n",
       "       [ 0.06048484, -0.2167852 ],\n",
       "       [ 0.22715151, -0.24067055],\n",
       "       [-0.27284849, -0.19598682],\n",
       "       [-0.27284849, -0.13644448],\n",
       "       [ 0.22715151, -0.2398094 ],\n",
       "       [-0.10618182, -0.18605925],\n",
       "       [ 0.72715151, -0.24373151],\n",
       "       [ 0.22715151, -0.17088331],\n",
       "       [-0.10618182, -0.24972133],\n",
       "       [ 0.56048484, -0.17334092],\n",
       "       [ 0.06048484, -0.26366286],\n",
       "       [-0.27284849, -0.19083283],\n",
       "       [-0.10618182, -0.24914993],\n",
       "       [-0.10618182, -0.26459742],\n",
       "       [ 0.06048484, -0.16713032],\n",
       "       [-0.27284849, -0.15990546],\n",
       "       [-0.27284849, -0.20708705],\n",
       "       [-0.10618182, -0.17821352],\n",
       "       [ 0.22715151, -0.26329171],\n",
       "       [ 0.56048484, -0.14518441],\n",
       "       [ 0.22715151, -0.10656568],\n",
       "       [ 0.72715151, -0.23458722],\n",
       "       [ 0.56048484, -0.22068068],\n",
       "       [-0.27284849, -0.26120894],\n",
       "       [ 0.72715151, -0.18471488],\n",
       "       [ 0.06048484, -0.14085465],\n",
       "       [ 0.06048484, -0.11296563],\n",
       "       [ 0.06048484, -0.21344212],\n",
       "       [ 0.22715151, -0.25191408],\n",
       "       [-0.27284849, -0.2155654 ],\n",
       "       [ 0.22715151, -0.13764381],\n",
       "       [ 0.06048484, -0.25938487],\n",
       "       [-0.27284849, -0.15374474],\n",
       "       [-0.27284849, -0.10758377],\n",
       "       [ 0.39381818, -0.21620759],\n",
       "       [-0.27284849, -0.13923453],\n",
       "       [ 0.06048484, -0.27122238],\n",
       "       [ 0.72715151, -0.17956123],\n",
       "       [ 0.39381818, -0.17205137],\n",
       "       [-0.27284849, -0.18392868],\n",
       "       [-0.27284849, -0.16615904],\n",
       "       [ 0.22715151, -0.12247418],\n",
       "       [-0.27284849, -0.15975975],\n",
       "       [ 0.56048484, -0.21105891],\n",
       "       [-0.10618182, -0.17796969],\n",
       "       [-0.10618182, -0.2355669 ],\n",
       "       [ 0.72715151, -0.23321377],\n",
       "       [-0.27284849, -0.23317525],\n",
       "       [ 0.39381818, -0.25207156],\n",
       "       [-0.10618182, -0.21017594],\n",
       "       [ 0.22715151, -0.21825677],\n",
       "       [ 0.39381818, -0.21689351],\n",
       "       [-0.27284849, -0.14442386],\n",
       "       [ 0.72715151, -0.26760382],\n",
       "       [-0.10618182, -0.21027417],\n",
       "       [ 0.06048484, -0.13529978],\n",
       "       [ 0.72715151, -0.15737224],\n",
       "       [ 0.56048484, -0.13516788],\n",
       "       [ 0.39381818, -0.20271047],\n",
       "       [ 0.22715151, -0.12736868],\n",
       "       [-0.27284849, -0.15362965],\n",
       "       [ 0.72715151, -0.22742567],\n",
       "       [-0.27284849, -0.14730522],\n",
       "       [-0.27284849, -0.12601648]])"
      ]
     },
     "execution_count": 11,
     "metadata": {},
     "output_type": "execute_result"
    }
   ],
   "source": [
    "data_norm"
   ]
  },
  {
   "cell_type": "code",
   "execution_count": 12,
   "metadata": {},
   "outputs": [
    {
     "ename": "IndexError",
     "evalue": "index 2 is out of bounds for axis 1 with size 2",
     "output_type": "error",
     "traceback": [
      "\u001b[0;31m---------------------------------------------------------------------------\u001b[0m",
      "\u001b[0;31mIndexError\u001b[0m                                Traceback (most recent call last)",
      "\u001b[0;32m<ipython-input-12-1bed9c9a3b57>\u001b[0m in \u001b[0;36m<module>\u001b[0;34m()\u001b[0m\n\u001b[1;32m      1\u001b[0m \u001b[0mfig\u001b[0m \u001b[0;34m=\u001b[0m \u001b[0mplt\u001b[0m\u001b[0;34m.\u001b[0m\u001b[0mfigure\u001b[0m\u001b[0;34m(\u001b[0m\u001b[0;34m)\u001b[0m\u001b[0;34m\u001b[0m\u001b[0m\n\u001b[1;32m      2\u001b[0m \u001b[0max\u001b[0m \u001b[0;34m=\u001b[0m \u001b[0mfig\u001b[0m\u001b[0;34m.\u001b[0m\u001b[0madd_subplot\u001b[0m\u001b[0;34m(\u001b[0m\u001b[0;36m111\u001b[0m\u001b[0;34m,\u001b[0m \u001b[0mprojection\u001b[0m\u001b[0;34m=\u001b[0m\u001b[0;34m'3d'\u001b[0m\u001b[0;34m)\u001b[0m\u001b[0;34m\u001b[0m\u001b[0m\n\u001b[0;32m----> 3\u001b[0;31m \u001b[0max\u001b[0m\u001b[0;34m.\u001b[0m\u001b[0mscatter\u001b[0m\u001b[0;34m(\u001b[0m\u001b[0mdata\u001b[0m\u001b[0;34m[\u001b[0m\u001b[0;34m:\u001b[0m\u001b[0;34m,\u001b[0m \u001b[0;36m0\u001b[0m\u001b[0;34m]\u001b[0m\u001b[0;34m,\u001b[0m \u001b[0mdata\u001b[0m\u001b[0;34m[\u001b[0m\u001b[0;34m:\u001b[0m\u001b[0;34m,\u001b[0m \u001b[0;36m1\u001b[0m\u001b[0;34m]\u001b[0m\u001b[0;34m,\u001b[0m \u001b[0mdata\u001b[0m\u001b[0;34m[\u001b[0m\u001b[0;34m:\u001b[0m\u001b[0;34m,\u001b[0m \u001b[0;36m2\u001b[0m\u001b[0;34m]\u001b[0m\u001b[0;34m,\u001b[0m \u001b[0mc\u001b[0m\u001b[0;34m=\u001b[0m\u001b[0;34m'b'\u001b[0m\u001b[0;34m,\u001b[0m \u001b[0mmarker\u001b[0m\u001b[0;34m=\u001b[0m\u001b[0;34m'o'\u001b[0m\u001b[0;34m)\u001b[0m\u001b[0;34m\u001b[0m\u001b[0m\n\u001b[0m\u001b[1;32m      4\u001b[0m \u001b[0max\u001b[0m\u001b[0;34m.\u001b[0m\u001b[0mset_xlabel\u001b[0m\u001b[0;34m(\u001b[0m\u001b[0;34m'Type'\u001b[0m\u001b[0;34m)\u001b[0m\u001b[0;34m\u001b[0m\u001b[0m\n\u001b[1;32m      5\u001b[0m \u001b[0max\u001b[0m\u001b[0;34m.\u001b[0m\u001b[0mset_ylabel\u001b[0m\u001b[0;34m(\u001b[0m\u001b[0;34m'Confidence'\u001b[0m\u001b[0;34m)\u001b[0m\u001b[0;34m\u001b[0m\u001b[0m\n",
      "\u001b[0;31mIndexError\u001b[0m: index 2 is out of bounds for axis 1 with size 2"
     ]
    },
    {
     "data": {
      "image/png": "[encoded data removed]",
      "text/plain": [
       "<matplotlib.figure.Figure at 0x7fced8403bd0>"
      ]
     },
     "metadata": {},
     "output_type": "display_data"
    }
   ],
   "source": [
    "fig = plt.figure()\n",
    "ax = fig.add_subplot(111, projection='3d')\n",
    "ax.scatter(data[:, 0], data[:, 1], data[:, 2], c='b', marker='o')\n",
    "ax.set_xlabel('Type')\n",
    "ax.set_ylabel('Confidence')\n",
    "ax.set_zlabel('Action')"
   ]
  },
  {
   "cell_type": "code",
   "execution_count": 13,
   "metadata": {},
   "outputs": [
    {
     "name": "stdout",
     "output_type": "stream",
     "text": [
      "K Values:  [846.57039026390862, 218.56578781536979, 102.01500062723571, 59.196257547616852, 43.009901536954118, 29.393080895719919, 17.380878184630937, 14.311018330080246, 11.962112189100935]\n"
     ]
    }
   ],
   "source": [
    "cluster_inertia = []\n",
    "for k in xrange(1, RANGE):\n",
    "    k_means_model = skc.KMeans(n_clusters=k).fit(data)\n",
    "    cluster_inertia.append(k_means_model.inertia_)\n",
    "    \n",
    "print('K Values: ', cluster_inertia)"
   ]
  },
  {
   "cell_type": "code",
   "execution_count": 14,
   "metadata": {},
   "outputs": [
    {
     "data": {
      "text/plain": [
       "[<matplotlib.lines.Line2D at 0x7fce9acba710>]"
      ]
     },
     "execution_count": 14,
     "metadata": {},
     "output_type": "execute_result"
    },
    {
     "data": {
      "image/png": "[encoded data removed]",
      "text/plain": [
       "<matplotlib.figure.Figure at 0x7fce9ac14dd0>"
      ]
     },
     "metadata": {},
     "output_type": "display_data"
    }
   ],
   "source": [
    "plt.plot(xrange(1, RANGE), cluster_inertia, marker='o')"
   ]
  },
  {
   "cell_type": "code",
   "execution_count": 15,
   "metadata": {
    "scrolled": true
   },
   "outputs": [
    {
     "name": "stdout",
     "output_type": "stream",
     "text": [
      "[[ -8.88178420e-16   7.65665025e-01]\n",
      " [  6.00000000e+00   4.37213377e-01]\n",
      " [  3.00000000e+00   4.97717406e-01]\n",
      " [  1.00000000e+00   4.33592968e-01]\n",
      " [  2.00000000e+00   1.97240566e-01]\n",
      " [  4.00000000e+00   4.61664699e-01]\n",
      " [  5.00000000e+00   4.29775946e-01]\n",
      " [  2.00000000e+00   7.51914208e-01]\n",
      " [ -8.88178420e-16   2.13912093e-01]]\n",
      "[1 5 7 7 3 7 8 1 8 3 3 6 4 2 7 2 8 1 5 3 2 5 4 7 1 1 4 1 1 5 3 1 3 5 1 1 8\n",
      " 4 5 0 2 3 4 7 5 4 5 5 5 1 2 7 0 3 6 3 6 3 1 2 5 6 3 3 7 7 3 3 5 4 5 5 6 6\n",
      " 0 6 1 1 6 3 3 1 2 5 5 8 2 4 2 2 6 6 4 7 6 6 1 3 4 5 1 7 2 6 7 5 8 2 4 3 3\n",
      " 6 6 2 4 0 8 4 1 2 3 3 7 6 3 7 6 8 5 2 4 0 7 6 6 7 3 1 1 2 0 7 1 4 2 8 0 2\n",
      " 3 1 2 3 6 4 0 3 3 7 0 8 3 2 6 2 1 6 8 1 7 7 4 2 8 2 4 0 0 5 0 4 1 5 0 0 2\n",
      " 0 6 3 3 1 8 5 3 2 5 0 1 3 7 1 6 5 2 0 1 0 0]\n"
     ]
    }
   ],
   "source": [
    "#k_means_model = skc.KMeans(n_clusters=3).fit(data)\n",
    "#k_means_model = skc.MiniBatchKMeans(n_clusters=3).fit(data)\n",
    "#k_means_model = skc.AffinityPropagation(preference=-50).fit(data)\n",
    "#bandwidth = skc.estimate_bandwidth(data, quantile=0.2, n_samples=50)\n",
    "#k_means_model = skc.MeanShift(bandwidth=bandwidth, bin_seeding=True)\n",
    "#k_means_model = skc.DBSCAN(eps=0.1, min_samples=10).fit(data)\n",
    "\n",
    "centroids = k_means_model.cluster_centers_\n",
    "labels = k_means_model.labels_\n",
    "\n",
    "print(centroids)\n",
    "print(labels)"
   ]
  },
  {
   "cell_type": "code",
   "execution_count": 16,
   "metadata": {},
   "outputs": [
    {
     "ename": "IndexError",
     "evalue": "index 2 is out of bounds for axis 0 with size 2",
     "output_type": "error",
     "traceback": [
      "\u001b[0;31m---------------------------------------------------------------------------\u001b[0m",
      "\u001b[0;31mIndexError\u001b[0m                                Traceback (most recent call last)",
      "\u001b[0;32m<ipython-input-16-b9dcc1904459>\u001b[0m in \u001b[0;36m<module>\u001b[0;34m()\u001b[0m\n\u001b[1;32m      5\u001b[0m         \u001b[0max\u001b[0m\u001b[0;34m.\u001b[0m\u001b[0mscatter\u001b[0m\u001b[0;34m(\u001b[0m\u001b[0mdata\u001b[0m\u001b[0;34m[\u001b[0m\u001b[0mi\u001b[0m\u001b[0;34m]\u001b[0m\u001b[0;34m[\u001b[0m\u001b[0;36m0\u001b[0m\u001b[0;34m]\u001b[0m\u001b[0;34m,\u001b[0m \u001b[0mdata\u001b[0m\u001b[0;34m[\u001b[0m\u001b[0mi\u001b[0m\u001b[0;34m]\u001b[0m\u001b[0;34m[\u001b[0m\u001b[0;36m1\u001b[0m\u001b[0;34m]\u001b[0m\u001b[0;34m,\u001b[0m \u001b[0mdata\u001b[0m\u001b[0;34m[\u001b[0m\u001b[0mi\u001b[0m\u001b[0;34m]\u001b[0m\u001b[0;34m[\u001b[0m\u001b[0;36m2\u001b[0m\u001b[0;34m]\u001b[0m\u001b[0;34m,\u001b[0m \u001b[0mc\u001b[0m\u001b[0;34m=\u001b[0m\u001b[0;34m'r'\u001b[0m\u001b[0;34m,\u001b[0m \u001b[0mmarker\u001b[0m\u001b[0;34m=\u001b[0m\u001b[0;34m'o'\u001b[0m\u001b[0;34m)\u001b[0m\u001b[0;34m\u001b[0m\u001b[0m\n\u001b[1;32m      6\u001b[0m     \u001b[0;32melif\u001b[0m \u001b[0mlabels\u001b[0m\u001b[0;34m[\u001b[0m\u001b[0mi\u001b[0m\u001b[0;34m]\u001b[0m \u001b[0;34m==\u001b[0m \u001b[0;36m1\u001b[0m\u001b[0;34m:\u001b[0m\u001b[0;34m\u001b[0m\u001b[0m\n\u001b[0;32m----> 7\u001b[0;31m         \u001b[0max\u001b[0m\u001b[0;34m.\u001b[0m\u001b[0mscatter\u001b[0m\u001b[0;34m(\u001b[0m\u001b[0mdata\u001b[0m\u001b[0;34m[\u001b[0m\u001b[0mi\u001b[0m\u001b[0;34m]\u001b[0m\u001b[0;34m[\u001b[0m\u001b[0;36m0\u001b[0m\u001b[0;34m]\u001b[0m\u001b[0;34m,\u001b[0m \u001b[0mdata\u001b[0m\u001b[0;34m[\u001b[0m\u001b[0mi\u001b[0m\u001b[0;34m]\u001b[0m\u001b[0;34m[\u001b[0m\u001b[0;36m1\u001b[0m\u001b[0;34m]\u001b[0m\u001b[0;34m,\u001b[0m \u001b[0mdata\u001b[0m\u001b[0;34m[\u001b[0m\u001b[0mi\u001b[0m\u001b[0;34m]\u001b[0m\u001b[0;34m[\u001b[0m\u001b[0;36m2\u001b[0m\u001b[0;34m]\u001b[0m\u001b[0;34m,\u001b[0m \u001b[0mc\u001b[0m\u001b[0;34m=\u001b[0m\u001b[0;34m'b'\u001b[0m\u001b[0;34m,\u001b[0m \u001b[0mmarker\u001b[0m\u001b[0;34m=\u001b[0m\u001b[0;34m'o'\u001b[0m\u001b[0;34m)\u001b[0m\u001b[0;34m\u001b[0m\u001b[0m\n\u001b[0m\u001b[1;32m      8\u001b[0m     \u001b[0;32melif\u001b[0m \u001b[0mlabels\u001b[0m\u001b[0;34m[\u001b[0m\u001b[0mi\u001b[0m\u001b[0;34m]\u001b[0m \u001b[0;34m==\u001b[0m \u001b[0;36m2\u001b[0m\u001b[0;34m:\u001b[0m\u001b[0;34m\u001b[0m\u001b[0m\n\u001b[1;32m      9\u001b[0m         \u001b[0max\u001b[0m\u001b[0;34m.\u001b[0m\u001b[0mscatter\u001b[0m\u001b[0;34m(\u001b[0m\u001b[0mdata\u001b[0m\u001b[0;34m[\u001b[0m\u001b[0mi\u001b[0m\u001b[0;34m]\u001b[0m\u001b[0;34m[\u001b[0m\u001b[0;36m0\u001b[0m\u001b[0;34m]\u001b[0m\u001b[0;34m,\u001b[0m \u001b[0mdata\u001b[0m\u001b[0;34m[\u001b[0m\u001b[0mi\u001b[0m\u001b[0;34m]\u001b[0m\u001b[0;34m[\u001b[0m\u001b[0;36m1\u001b[0m\u001b[0;34m]\u001b[0m\u001b[0;34m,\u001b[0m \u001b[0mdata\u001b[0m\u001b[0;34m[\u001b[0m\u001b[0mi\u001b[0m\u001b[0;34m]\u001b[0m\u001b[0;34m[\u001b[0m\u001b[0;36m2\u001b[0m\u001b[0;34m]\u001b[0m\u001b[0;34m,\u001b[0m \u001b[0mc\u001b[0m\u001b[0;34m=\u001b[0m\u001b[0;34m'g'\u001b[0m\u001b[0;34m,\u001b[0m \u001b[0mmarker\u001b[0m\u001b[0;34m=\u001b[0m\u001b[0;34m'o'\u001b[0m\u001b[0;34m)\u001b[0m\u001b[0;34m\u001b[0m\u001b[0m\n",
      "\u001b[0;31mIndexError\u001b[0m: index 2 is out of bounds for axis 0 with size 2"
     ]
    },
    {
     "data": {
      "image/png": "[encoded data removed]",
      "text/plain": [
       "<matplotlib.figure.Figure at 0x7fce98c02d10>"
      ]
     },
     "metadata": {},
     "output_type": "display_data"
    }
   ],
   "source": [
    "fig = plt.figure()\n",
    "ax = fig.add_subplot(111, projection='3d')\n",
    "for i in xrange(data.shape[0]):\n",
    "    if labels[i] == 0:\n",
    "        ax.scatter(data[i][0], data[i][1], data[i][2], c='r', marker='o')\n",
    "    elif labels[i] == 1:\n",
    "        ax.scatter(data[i][0], data[i][1], data[i][2], c='b', marker='o')\n",
    "    elif labels[i] == 2:\n",
    "        ax.scatter(data[i][0], data[i][1], data[i][2], c='g', marker='o')\n",
    "ax.set_xlabel('Type')\n",
    "ax.set_ylabel('Confidence')\n",
    "ax.set_zlabel('Action')"
   ]
  },
  {
   "cell_type": "code",
   "execution_count": 17,
   "metadata": {
    "scrolled": true
   },
   "outputs": [
    {
     "data": {
      "text/plain": [
       "array([[  1.95000000e+02,   4.88276205e-03],\n",
       "       [  2.50000000e+01,   5.12823490e-03],\n",
       "       [  8.80000000e+01,   1.81739315e-02],\n",
       "       [  6.20000000e+01,   3.85817902e-02],\n",
       "       [  2.60000000e+01,   2.96476297e-03],\n",
       "       [  8.40000000e+01,   2.13512670e-02],\n",
       "       [  1.34000000e+02,   1.48681675e-02],\n",
       "       [  6.50000000e+01,   1.83671620e-02],\n",
       "       [  1.06000000e+02,   2.02801425e-02]])"
      ]
     },
     "execution_count": 17,
     "metadata": {},
     "output_type": "execute_result"
    }
   ],
   "source": [
    "centroid_shape = centroids.shape[0]\n",
    "\n",
    "prototypes = np.zeros((centroid_shape, 2))\n",
    "\n",
    "for i in xrange(centroid_shape):\n",
    "    for j in xrange(labels.shape[0]):\n",
    "        if labels[j] == i:\n",
    "            dist = np.linalg.norm(centroids[i] - data[j])\n",
    "            \n",
    "            if not prototypes[i][1]:\n",
    "                prototypes[i][0] = j\n",
    "                prototypes[i][1] = dist\n",
    "                continue\n",
    "                \n",
    "            if dist < prototypes[i][1]:\n",
    "                prototypes[i][0] = j\n",
    "                prototypes[i][1] = dist\n",
    "                \n",
    "prototypes"
   ]
  },
  {
   "cell_type": "code",
   "execution_count": 18,
   "metadata": {
    "scrolled": true
   },
   "outputs": [
    {
     "name": "stdout",
     "output_type": "stream",
     "text": [
      "[ 0.          0.77054779]\n",
      "[ 6.          0.44234161]\n",
      "[ 3.          0.51589134]\n",
      "[ 1.          0.39501118]\n",
      "[ 2.          0.20020533]\n",
      "[ 4.          0.44031343]\n",
      "[ 5.          0.44464411]\n",
      "[ 2.          0.77028137]\n",
      "[ 0.          0.23419224]\n"
     ]
    }
   ],
   "source": [
    "for i in xrange(prototypes.shape[0]):\n",
    "    print(data[int(prototypes[:, 0][i])])"
   ]
  },
  {
   "cell_type": "markdown",
   "metadata": {},
   "source": [
    "### The robot [action] when presented with a [type] query with a confidence [confidence]%.\n",
    "### Which action would you prefer for the robot to make next time:\n",
    "### 1 - Same action\n",
    "### 2, 3 - Next two"
   ]
  },
  {
   "cell_type": "code",
   "execution_count": 17,
   "metadata": {
    "collapsed": true
   },
   "outputs": [],
   "source": [
    "def display_question(survey):\n",
    "    print(survey[-1])\n",
    "    sys.stdout.write('The robot ')\n",
    "    if int(survey[-1]) == 0:\n",
    "        sys.stdout.write('was fully autonomous')\n",
    "    elif int(survey[-1]) == 1:\n",
    "        sys.stdout.write('stopped and waited for your input')\n",
    "    elif int(survey[-1]) == 2:\n",
    "        sys.stdout.write('continued its task and asked for your answer later')\n",
    "\n",
    "    sys.stdout.write(' when presented with a ')\n",
    "\n",
    "    if int(survey[0]) == 0:\n",
    "        sys.stdout.write('visual')\n",
    "    elif int(survey[0]) == 1:\n",
    "        sys.stdout.write('tagging')\n",
    "    elif int(survey[0]) == 2:\n",
    "        sys.stdout.write('path')\n",
    "    elif int(survey[0]) == 3:\n",
    "        sys.stdout.write('communication')\n",
    "    elif int(survey[0]) == 4:\n",
    "        sys.stdout.write('robot health')\n",
    "    elif int(survey[0]) == 5:\n",
    "        sys.stdout.write('audio')\n",
    "    elif int(survey[0]) == 6:\n",
    "        sys.stdout.write('task')\n",
    "\n",
    "    sys.stdout.write(' query with a confidence of ')\n",
    "\n",
    "    sys.stdout.write('{}%\\n'.format(int(survey[1]*100)))"
   ]
  },
  {
   "cell_type": "code",
   "execution_count": 18,
   "metadata": {
    "collapsed": true,
    "scrolled": false
   },
   "outputs": [],
   "source": [
    "def survey_func(survey):\n",
    "    display_question(survey)\n",
    "    \n",
    "    sys.stdout.write('Which action would you prefer for the robot to make next time:\\n')\n",
    "    sys.stdout.write('1 - Same action\\n')\n",
    "    if int(survey[-1]) == 0:\n",
    "        sys.stdout.write('2 - Stop and ask\\n')\n",
    "        sys.stdout.write('3 - Continue but still ask\\n')\n",
    "        \n",
    "        result = input()\n",
    "        if result == 1:\n",
    "            return 0\n",
    "        elif result == 2:\n",
    "            return 1\n",
    "        elif result == 3:\n",
    "            return 2\n",
    "    elif int(survey[-1]) == 1:\n",
    "        sys.stdout.write('2 - Fully autonomous\\n')\n",
    "        sys.stdout.write('3 - Continue but still ask\\n')\n",
    "        \n",
    "        result = input()\n",
    "        if result == 1:\n",
    "            return 1\n",
    "        elif result == 2:\n",
    "            return 0\n",
    "        elif result == 3:\n",
    "            return 2\n",
    "    elif int(survey[-1]) == 2:\n",
    "        sys.stdout.write('2 - Fully autonomous\\n')\n",
    "        sys.stdout.write('3 - Stop and ask\\n')\n",
    "        \n",
    "        result = input()\n",
    "        if result == 1:\n",
    "            return 2\n",
    "        elif result == 2:\n",
    "            return 0\n",
    "        elif result == 3:\n",
    "            return 1"
   ]
  },
  {
   "cell_type": "code",
   "execution_count": 19,
   "metadata": {
    "scrolled": false
   },
   "outputs": [
    {
     "name": "stdout",
     "output_type": "stream",
     "text": [
      "-0.235311732919\n",
      "The robot was fully autonomous when presented with a visual query with a confidence of -21%\n",
      "Which action would you prefer for the robot to make next time:\n",
      "1 - Same action\n",
      "2 - Stop and ask\n",
      "3 - Continue but still ask\n",
      "2\n",
      "-0.235311732919\n",
      "The robot was fully autonomous when presented with a visual query with a confidence of -18%\n",
      "Which action would you prefer for the robot to make next time:\n",
      "1 - Same action\n",
      "2 - Stop and ask\n",
      "3 - Continue but still ask\n"
     ]
    },
    {
     "ename": "KeyboardInterrupt",
     "evalue": "",
     "output_type": "error",
     "traceback": [
      "\u001b[0;31m---------------------------------------------------------------------------\u001b[0m",
      "\u001b[0;31mKeyboardInterrupt\u001b[0m                         Traceback (most recent call last)",
      "\u001b[0;32m<ipython-input-19-b06c3698b875>\u001b[0m in \u001b[0;36m<module>\u001b[0;34m()\u001b[0m\n\u001b[1;32m      1\u001b[0m \u001b[0mcluster_labels\u001b[0m \u001b[0;34m=\u001b[0m \u001b[0mdict\u001b[0m\u001b[0;34m(\u001b[0m\u001b[0;34m)\u001b[0m\u001b[0;34m\u001b[0m\u001b[0m\n\u001b[1;32m      2\u001b[0m \u001b[0;32mfor\u001b[0m \u001b[0mp\u001b[0m \u001b[0;32min\u001b[0m \u001b[0mprototypes\u001b[0m\u001b[0;34m[\u001b[0m\u001b[0;34m:\u001b[0m\u001b[0;34m,\u001b[0m \u001b[0;36m0\u001b[0m\u001b[0;34m]\u001b[0m\u001b[0;34m:\u001b[0m\u001b[0;34m\u001b[0m\u001b[0m\n\u001b[0;32m----> 3\u001b[0;31m     \u001b[0mpreferred_action\u001b[0m \u001b[0;34m=\u001b[0m \u001b[0msurvey_func\u001b[0m\u001b[0;34m(\u001b[0m\u001b[0mdata\u001b[0m\u001b[0;34m[\u001b[0m\u001b[0mint\u001b[0m\u001b[0;34m(\u001b[0m\u001b[0mp\u001b[0m\u001b[0;34m)\u001b[0m\u001b[0;34m]\u001b[0m\u001b[0;34m)\u001b[0m\u001b[0;34m\u001b[0m\u001b[0m\n\u001b[0m\u001b[1;32m      4\u001b[0m     \u001b[0mcluster_labels\u001b[0m\u001b[0;34m[\u001b[0m\u001b[0mlabels\u001b[0m\u001b[0;34m[\u001b[0m\u001b[0mint\u001b[0m\u001b[0;34m(\u001b[0m\u001b[0mp\u001b[0m\u001b[0;34m)\u001b[0m\u001b[0;34m]\u001b[0m\u001b[0;34m]\u001b[0m \u001b[0;34m=\u001b[0m \u001b[0mpreferred_action\u001b[0m\u001b[0;34m\u001b[0m\u001b[0m\n",
      "\u001b[0;32m<ipython-input-18-caf0442377eb>\u001b[0m in \u001b[0;36msurvey_func\u001b[0;34m(survey)\u001b[0m\n\u001b[1;32m      8\u001b[0m         \u001b[0msys\u001b[0m\u001b[0;34m.\u001b[0m\u001b[0mstdout\u001b[0m\u001b[0;34m.\u001b[0m\u001b[0mwrite\u001b[0m\u001b[0;34m(\u001b[0m\u001b[0;34m'3 - Continue but still ask\\n'\u001b[0m\u001b[0;34m)\u001b[0m\u001b[0;34m\u001b[0m\u001b[0m\n\u001b[1;32m      9\u001b[0m \u001b[0;34m\u001b[0m\u001b[0m\n\u001b[0;32m---> 10\u001b[0;31m         \u001b[0mresult\u001b[0m \u001b[0;34m=\u001b[0m \u001b[0minput\u001b[0m\u001b[0;34m(\u001b[0m\u001b[0;34m)\u001b[0m\u001b[0;34m\u001b[0m\u001b[0m\n\u001b[0m\u001b[1;32m     11\u001b[0m         \u001b[0;32mif\u001b[0m \u001b[0mresult\u001b[0m \u001b[0;34m==\u001b[0m \u001b[0;36m1\u001b[0m\u001b[0;34m:\u001b[0m\u001b[0;34m\u001b[0m\u001b[0m\n\u001b[1;32m     12\u001b[0m             \u001b[0;32mreturn\u001b[0m \u001b[0;36m0\u001b[0m\u001b[0;34m\u001b[0m\u001b[0m\n",
      "\u001b[0;32m/home/collin/anaconda2/lib/python2.7/site-packages/ipykernel/ipkernel.pyc\u001b[0m in \u001b[0;36m<lambda>\u001b[0;34m(prompt)\u001b[0m\n\u001b[1;32m    162\u001b[0m             \u001b[0mself\u001b[0m\u001b[0;34m.\u001b[0m\u001b[0m_sys_eval_input\u001b[0m \u001b[0;34m=\u001b[0m \u001b[0mbuiltin_mod\u001b[0m\u001b[0;34m.\u001b[0m\u001b[0minput\u001b[0m\u001b[0;34m\u001b[0m\u001b[0m\n\u001b[1;32m    163\u001b[0m             \u001b[0mbuiltin_mod\u001b[0m\u001b[0;34m.\u001b[0m\u001b[0mraw_input\u001b[0m \u001b[0;34m=\u001b[0m \u001b[0mself\u001b[0m\u001b[0;34m.\u001b[0m\u001b[0mraw_input\u001b[0m\u001b[0;34m\u001b[0m\u001b[0m\n\u001b[0;32m--> 164\u001b[0;31m             \u001b[0mbuiltin_mod\u001b[0m\u001b[0;34m.\u001b[0m\u001b[0minput\u001b[0m \u001b[0;34m=\u001b[0m \u001b[0;32mlambda\u001b[0m \u001b[0mprompt\u001b[0m\u001b[0;34m=\u001b[0m\u001b[0;34m''\u001b[0m\u001b[0;34m:\u001b[0m \u001b[0meval\u001b[0m\u001b[0;34m(\u001b[0m\u001b[0mself\u001b[0m\u001b[0;34m.\u001b[0m\u001b[0mraw_input\u001b[0m\u001b[0;34m(\u001b[0m\u001b[0mprompt\u001b[0m\u001b[0;34m)\u001b[0m\u001b[0;34m)\u001b[0m\u001b[0;34m\u001b[0m\u001b[0m\n\u001b[0m\u001b[1;32m    165\u001b[0m         \u001b[0mself\u001b[0m\u001b[0;34m.\u001b[0m\u001b[0m_save_getpass\u001b[0m \u001b[0;34m=\u001b[0m \u001b[0mgetpass\u001b[0m\u001b[0;34m.\u001b[0m\u001b[0mgetpass\u001b[0m\u001b[0;34m\u001b[0m\u001b[0m\n\u001b[1;32m    166\u001b[0m         \u001b[0mgetpass\u001b[0m\u001b[0;34m.\u001b[0m\u001b[0mgetpass\u001b[0m \u001b[0;34m=\u001b[0m \u001b[0mself\u001b[0m\u001b[0;34m.\u001b[0m\u001b[0mgetpass\u001b[0m\u001b[0;34m\u001b[0m\u001b[0m\n",
      "\u001b[0;32m/home/collin/anaconda2/lib/python2.7/site-packages/ipykernel/kernelbase.pyc\u001b[0m in \u001b[0;36mraw_input\u001b[0;34m(self, prompt)\u001b[0m\n\u001b[1;32m    703\u001b[0m             \u001b[0mself\u001b[0m\u001b[0;34m.\u001b[0m\u001b[0m_parent_ident\u001b[0m\u001b[0;34m,\u001b[0m\u001b[0;34m\u001b[0m\u001b[0m\n\u001b[1;32m    704\u001b[0m             \u001b[0mself\u001b[0m\u001b[0;34m.\u001b[0m\u001b[0m_parent_header\u001b[0m\u001b[0;34m,\u001b[0m\u001b[0;34m\u001b[0m\u001b[0m\n\u001b[0;32m--> 705\u001b[0;31m             \u001b[0mpassword\u001b[0m\u001b[0;34m=\u001b[0m\u001b[0mFalse\u001b[0m\u001b[0;34m,\u001b[0m\u001b[0;34m\u001b[0m\u001b[0m\n\u001b[0m\u001b[1;32m    706\u001b[0m         )\n\u001b[1;32m    707\u001b[0m \u001b[0;34m\u001b[0m\u001b[0m\n",
      "\u001b[0;32m/home/collin/anaconda2/lib/python2.7/site-packages/ipykernel/kernelbase.pyc\u001b[0m in \u001b[0;36m_input_request\u001b[0;34m(self, prompt, ident, parent, password)\u001b[0m\n\u001b[1;32m    733\u001b[0m             \u001b[0;32mexcept\u001b[0m \u001b[0mKeyboardInterrupt\u001b[0m\u001b[0;34m:\u001b[0m\u001b[0;34m\u001b[0m\u001b[0m\n\u001b[1;32m    734\u001b[0m                 \u001b[0;31m# re-raise KeyboardInterrupt, to truncate traceback\u001b[0m\u001b[0;34m\u001b[0m\u001b[0;34m\u001b[0m\u001b[0m\n\u001b[0;32m--> 735\u001b[0;31m                 \u001b[0;32mraise\u001b[0m \u001b[0mKeyboardInterrupt\u001b[0m\u001b[0;34m\u001b[0m\u001b[0m\n\u001b[0m\u001b[1;32m    736\u001b[0m             \u001b[0;32melse\u001b[0m\u001b[0;34m:\u001b[0m\u001b[0;34m\u001b[0m\u001b[0m\n\u001b[1;32m    737\u001b[0m                 \u001b[0;32mbreak\u001b[0m\u001b[0;34m\u001b[0m\u001b[0m\n",
      "\u001b[0;31mKeyboardInterrupt\u001b[0m: "
     ]
    }
   ],
   "source": [
    "cluster_labels = dict()\n",
    "for p in prototypes[:, 0]:\n",
    "    preferred_action = survey_func(data[int(p)])\n",
    "    cluster_labels[labels[int(p)]] = preferred_action"
   ]
  },
  {
   "cell_type": "code",
   "execution_count": 12,
   "metadata": {},
   "outputs": [
    {
     "data": {
      "text/plain": [
       "{0: 2, 1: 0, 2: 1}"
      ]
     },
     "execution_count": 12,
     "metadata": {},
     "output_type": "execute_result"
    }
   ],
   "source": [
    "cluster_labels"
   ]
  },
  {
   "cell_type": "code",
   "execution_count": 13,
   "metadata": {
    "scrolled": true
   },
   "outputs": [
    {
     "name": "stdout",
     "output_type": "stream",
     "text": [
      "Before:\n",
      "0.0\n",
      "The robot was fully autonomous when presented with a path query with a confidence of 27%\n",
      "After:\n",
      "1.0\n",
      "The robot stopped and waited for your input when presented with a path query with a confidence of 27%\n",
      "\n"
     ]
    }
   ],
   "source": [
    "for t in test:\n",
    "    c_predict = k_means_model.predict([t])[0]\n",
    "    action = cluster_labels[c_predict]\n",
    "    if t[-1] != action:\n",
    "        print('Before:')\n",
    "        display_question(t)\n",
    "        t[-1] = action\n",
    "        print('After:')\n",
    "        display_question(t)\n",
    "        print()"
   ]
  },
  {
   "cell_type": "markdown",
   "metadata": {
    "scrolled": false
   },
   "source": [
    "colors = [\"g.\", \"r.\", \"c.\", \"y.\"]\n",
    "\n",
    "for i in range(len(data)):\n",
    "    plt.plot(data[i][0], data[i][1], colors[labels[i]], markersize=10)\n",
    "\n",
    "plt.scatter(centroids[:, 0], centroids[:, 1], marker=\"x\", s=100, linewidths=1, zorder=10)"
   ]
  }
 ],
 "metadata": {
  "kernelspec": {
   "display_name": "Python 2",
   "language": "python",
   "name": "python2"
  },
  "language_info": {
   "codemirror_mode": {
    "name": "ipython",
    "version": 2
   },
   "file_extension": ".py",
   "mimetype": "text/x-python",
   "name": "python",
   "nbconvert_exporter": "python",
   "pygments_lexer": "ipython2",
   "version": "2.7.14"
  }
 },
 "nbformat": 4,
 "nbformat_minor": 2
}
