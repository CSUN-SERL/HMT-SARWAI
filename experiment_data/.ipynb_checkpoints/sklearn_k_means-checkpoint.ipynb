{
 "cells": [
  {
   "cell_type": "code",
   "execution_count": 1,
   "metadata": {},
   "outputs": [],
   "source": [
    "from __future__ import absolute_import\n",
    "from __future__ import division\n",
    "from __future__ import print_function\n",
    "\n",
    "from kmodes import kmodes\n",
    "import numpy as np\n",
    "import matplotlib.pyplot as plt\n",
    "%matplotlib inline\n",
    "import pandas as pd\n",
    "from sklearn.cluster import KMeans\n",
    "from scipy.spatial.distance import cdist\n",
    "import sys"
   ]
  },
  {
   "cell_type": "code",
   "execution_count": 2,
   "metadata": {},
   "outputs": [],
   "source": [
    "RANGE = 10"
   ]
  },
  {
   "cell_type": "code",
   "execution_count": 3,
   "metadata": {},
   "outputs": [],
   "source": [
    "df = pd.read_csv('mission_1.csv')\n",
    "\n",
    "data = []\n",
    "for _, d in df.iterrows():\n",
    "    data.append(d.tolist()[1:])\n",
    "data = np.array(data)\n",
    "np.random.shuffle(data)\n",
    "test = data[-1:]\n",
    "data = data[:-1]"
   ]
  },
  {
   "cell_type": "code",
   "execution_count": 4,
   "metadata": {},
   "outputs": [
    {
     "name": "stdout",
     "output_type": "stream",
     "text": [
      "K Values:  [988.83444244836926, 360.3213330134239, 243.8959748100205, 191.82530731719345, 154.46605912623534, 115.03022914875743, 92.553177770389212, 79.004291243914878, 64.380167184966496]\n"
     ]
    }
   ],
   "source": [
    "cluster_inertia = []\n",
    "for k in xrange(1, RANGE):\n",
    "    k_means_model = KMeans(n_clusters=k).fit(data)\n",
    "    cluster_inertia.append(k_means_model.inertia_)\n",
    "    \n",
    "print('K Values: ', cluster_inertia)"
   ]
  },
  {
   "cell_type": "code",
   "execution_count": 5,
   "metadata": {},
   "outputs": [
    {
     "data": {
      "text/plain": [
       "[<matplotlib.lines.Line2D at 0x7f66de830c50>]"
      ]
     },
     "execution_count": 5,
     "metadata": {},
     "output_type": "execute_result"
    },
    {
     "data": {
      "image/png": "[encoded data removed]",
      "text/plain": [
       "<matplotlib.figure.Figure at 0x7f66e1424290>"
      ]
     },
     "metadata": {},
     "output_type": "display_data"
    }
   ],
   "source": [
    "plt.plot(xrange(1, RANGE), cluster_inertia, marker='o')"
   ]
  },
  {
   "cell_type": "code",
   "execution_count": 6,
   "metadata": {
    "scrolled": true
   },
   "outputs": [
    {
     "name": "stdout",
     "output_type": "stream",
     "text": [
      "[[ 0.5         0.48755418  0.984375  ]\n",
      " [ 5.05128205  0.44432612  0.88461538]\n",
      " [ 2.4         0.49539244  1.        ]]\n",
      "[2 0 2 1 0 1 2 1 0 1 1 2 1 2 0 0 0 2 0 1 1 1 0 0 2 0 1 2 2 1 0 2 1 0 0 2 0\n",
      " 2 0 1 0 1 2 1 1 0 2 2 2 2 0 2 1 1 1 2 1 2 1 1 2 0 1 2 0 2 2 2 0 0 2 2 1 2\n",
      " 1 0 2 2 2 1 1 1 1 0 0 1 0 1 0 0 2 0 0 2 0 2 2 2 0 0 0 2 0 2 0 1 0 2 0 0 2\n",
      " 1 0 2 0 1 0 1 0 1 1 0 2 2 1 1 1 1 1 1 0 1 2 1 0 1 0 1 0 1 1 2 2 1 1 0 0 0\n",
      " 1 1 1 0 0 1 1 2 1 2 2 2 0 1 0 2 2 2 2 0 2 0 1 0 2 1 1 1 1 1 1 1 1 2 1 0 1\n",
      " 0 1 2 1 2 1 2 2 0 1 1 0 1 2 1 2 0 1 0 1 2 2]\n"
     ]
    }
   ],
   "source": [
    "k_means_model = KMeans(n_clusters=3).fit(data)\n",
    "\n",
    "centroids = k_means_model.cluster_centers_\n",
    "labels = k_means_model.labels_\n",
    "\n",
    "print(centroids)\n",
    "print(labels)"
   ]
  },
  {
   "cell_type": "code",
   "execution_count": 7,
   "metadata": {
    "scrolled": true
   },
   "outputs": [
    {
     "data": {
      "text/plain": [
       "array([[  8.40000000e+01,   5.00249151e-01],\n",
       "       [  1.79000000e+02,   1.26267808e-01],\n",
       "       [  1.30000000e+01,   4.00001549e-01]])"
      ]
     },
     "execution_count": 7,
     "metadata": {},
     "output_type": "execute_result"
    }
   ],
   "source": [
    "centroid_shape = centroids.shape[0]\n",
    "\n",
    "prototypes = np.zeros((centroid_shape, 2))\n",
    "\n",
    "for i in xrange(centroid_shape):\n",
    "    for j in xrange(labels.shape[0]):\n",
    "        if labels[j] == i:\n",
    "            dist = np.linalg.norm(centroids[i] - data[j])\n",
    "            \n",
    "            if not prototypes[i][1]:\n",
    "                prototypes[i][0] = j\n",
    "                prototypes[i][1] = dist\n",
    "                continue\n",
    "                \n",
    "            if dist < prototypes[i][1]:\n",
    "                prototypes[i][0] = j\n",
    "                prototypes[i][1] = dist\n",
    "                \n",
    "prototypes"
   ]
  },
  {
   "cell_type": "code",
   "execution_count": 8,
   "metadata": {
    "scrolled": true
   },
   "outputs": [
    {
     "name": "stdout",
     "output_type": "stream",
     "text": [
      "[ 1.          0.48530192  1.        ]\n",
      "[ 5.          0.44464411  1.        ]\n",
      "[ 2.          0.49650559  1.        ]\n"
     ]
    }
   ],
   "source": [
    "for i in xrange(prototypes.shape[0]):\n",
    "    print(data[int(prototypes[:, 0][i])])"
   ]
  },
  {
   "cell_type": "markdown",
   "metadata": {},
   "source": [
    "### The robot [action] when presented with a [type] query with a confidence [confidence]%.\n",
    "### Which action would you prefer for the robot to make next time:\n",
    "### 1 - Same action\n",
    "### 2, 3 - Next two"
   ]
  },
  {
   "cell_type": "code",
   "execution_count": 9,
   "metadata": {},
   "outputs": [],
   "source": [
    "def display_question(survey):\n",
    "    print(survey[-1])\n",
    "    sys.stdout.write('The robot ')\n",
    "    if int(survey[-1]) == 0:\n",
    "        sys.stdout.write('was fully autonomous')\n",
    "    elif int(survey[-1]) == 1:\n",
    "        sys.stdout.write('stopped and waited for your input')\n",
    "    elif int(survey[-1]) == 2:\n",
    "        sys.stdout.write('continued its task and asked for your answer later')\n",
    "\n",
    "    sys.stdout.write(' when presented with a ')\n",
    "\n",
    "    if int(survey[0]) == 0:\n",
    "        sys.stdout.write('visual')\n",
    "    elif int(survey[0]) == 1:\n",
    "        sys.stdout.write('tagging')\n",
    "    elif int(survey[0]) == 2:\n",
    "        sys.stdout.write('path')\n",
    "    elif int(survey[0]) == 3:\n",
    "        sys.stdout.write('communication')\n",
    "    elif int(survey[0]) == 4:\n",
    "        sys.stdout.write('robot health')\n",
    "    elif int(survey[0]) == 5:\n",
    "        sys.stdout.write('audio')\n",
    "    elif int(survey[0]) == 6:\n",
    "        sys.stdout.write('task')\n",
    "\n",
    "    sys.stdout.write(' query with a confidence of ')\n",
    "\n",
    "    sys.stdout.write('{}%\\n'.format(int(survey[1]*100)))"
   ]
  },
  {
   "cell_type": "code",
   "execution_count": 10,
   "metadata": {
    "scrolled": false
   },
   "outputs": [],
   "source": [
    "def survey_func(survey):\n",
    "    display_question(survey)\n",
    "    \n",
    "    sys.stdout.write('Which action would you prefer for the robot to make next time:\\n')\n",
    "    sys.stdout.write('1 - Same action\\n')\n",
    "    if int(survey[-1]) == 0:\n",
    "        sys.stdout.write('2 - Stop and ask\\n')\n",
    "        sys.stdout.write('3 - Continue but still ask\\n')\n",
    "        \n",
    "        result = input()\n",
    "        if result == 1:\n",
    "            return 0\n",
    "        elif result == 2:\n",
    "            return 1\n",
    "        elif result == 3:\n",
    "            return 2\n",
    "    elif int(survey[-1]) == 1:\n",
    "        sys.stdout.write('2 - Fully autonomous\\n')\n",
    "        sys.stdout.write('3 - Continue but still ask\\n')\n",
    "        \n",
    "        result = input()\n",
    "        if result == 1:\n",
    "            return 1\n",
    "        elif result == 2:\n",
    "            return 0\n",
    "        elif result == 3:\n",
    "            return 2\n",
    "    elif int(survey[-1]) == 2:\n",
    "        sys.stdout.write('2 - Fully autonomous\\n')\n",
    "        sys.stdout.write('3 - Stop and ask\\n')\n",
    "        \n",
    "        result = input()\n",
    "        if result == 1:\n",
    "            return 2\n",
    "        elif result == 2:\n",
    "            return 0\n",
    "        elif result == 3:\n",
    "            return 1"
   ]
  },
  {
   "cell_type": "code",
   "execution_count": 11,
   "metadata": {
    "scrolled": false
   },
   "outputs": [
    {
     "name": "stdout",
     "output_type": "stream",
     "text": [
      "1.0\n",
      "The robot stopped and waited for your input when presented with a tagging query with a confidence of 48%\n",
      "Which action would you prefer for the robot to make next time:\n",
      "1 - Same action\n",
      "2 - Fully autonomous\n",
      "3 - Continue but still ask\n",
      "3\n",
      "1.0\n",
      "The robot stopped and waited for your input when presented with a audio query with a confidence of 44%\n",
      "Which action would you prefer for the robot to make next time:\n",
      "1 - Same action\n",
      "2 - Fully autonomous\n",
      "3 - Continue but still ask\n",
      "2\n",
      "1.0\n",
      "The robot stopped and waited for your input when presented with a path query with a confidence of 49%\n",
      "Which action would you prefer for the robot to make next time:\n",
      "1 - Same action\n",
      "2 - Fully autonomous\n",
      "3 - Continue but still ask\n",
      "1\n"
     ]
    }
   ],
   "source": [
    "cluster_labels = dict()\n",
    "for p in prototypes[:, 0]:\n",
    "    preferred_action = survey_func(data[int(p)])\n",
    "    cluster_labels[labels[int(p)]] = preferred_action"
   ]
  },
  {
   "cell_type": "code",
   "execution_count": 12,
   "metadata": {},
   "outputs": [
    {
     "data": {
      "text/plain": [
       "{0: 2, 1: 0, 2: 1}"
      ]
     },
     "execution_count": 12,
     "metadata": {},
     "output_type": "execute_result"
    }
   ],
   "source": [
    "cluster_labels"
   ]
  },
  {
   "cell_type": "code",
   "execution_count": 13,
   "metadata": {
    "scrolled": true
   },
   "outputs": [
    {
     "name": "stdout",
     "output_type": "stream",
     "text": [
      "Before:\n",
      "0.0\n",
      "The robot was fully autonomous when presented with a path query with a confidence of 27%\n",
      "After:\n",
      "1.0\n",
      "The robot stopped and waited for your input when presented with a path query with a confidence of 27%\n",
      "\n"
     ]
    }
   ],
   "source": [
    "for t in test:\n",
    "    c_predict = k_means_model.predict([t])[0]\n",
    "    action = cluster_labels[c_predict]\n",
    "    if t[-1] != action:\n",
    "        print('Before:')\n",
    "        display_question(t)\n",
    "        t[-1] = action\n",
    "        print('After:')\n",
    "        display_question(t)\n",
    "        print()"
   ]
  },
  {
   "cell_type": "markdown",
   "metadata": {
    "scrolled": false
   },
   "source": [
    "colors = [\"g.\", \"r.\", \"c.\", \"y.\"]\n",
    "\n",
    "for i in range(len(data)):\n",
    "    plt.plot(data[i][0], data[i][1], colors[labels[i]], markersize=10)\n",
    "\n",
    "plt.scatter(centroids[:, 0], centroids[:, 1], marker=\"x\", s=100, linewidths=1, zorder=10)"
   ]
  }
 ],
 "metadata": {
  "kernelspec": {
   "display_name": "Python 2",
   "language": "python",
   "name": "python2"
  },
  "language_info": {
   "codemirror_mode": {
    "name": "ipython",
    "version": 2
   },
   "file_extension": ".py",
   "mimetype": "text/x-python",
   "name": "python",
   "nbconvert_exporter": "python",
   "pygments_lexer": "ipython2",
   "version": "2.7.12"
  }
 },
 "nbformat": 4,
 "nbformat_minor": 2
}
