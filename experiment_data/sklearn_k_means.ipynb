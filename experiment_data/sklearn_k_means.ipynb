{
 "cells": [
  {
   "cell_type": "code",
   "execution_count": 13,
   "metadata": {},
   "outputs": [],
   "source": [
    "from __future__ import absolute_import\n",
    "from __future__ import division\n",
    "from __future__ import print_function\n",
    "\n",
    "from kmodes import kmodes\n",
    "import numpy as np\n",
    "import matplotlib.pyplot as plt\n",
    "%matplotlib inline\n",
    "import pandas as pd\n",
    "from sklearn.cluster import KMeans\n",
    "from scipy.spatial.distance import cdist\n",
    "import sys"
   ]
  },
  {
   "cell_type": "code",
   "execution_count": 2,
   "metadata": {},
   "outputs": [],
   "source": [
    "RANGE = 10"
   ]
  },
  {
   "cell_type": "code",
   "execution_count": 3,
   "metadata": {},
   "outputs": [],
   "source": [
    "df = pd.read_csv('mission_1.csv')\n",
    "\n",
    "data = []\n",
    "for _, d in df.iterrows():\n",
    "    data.append(d.tolist()[1:])\n",
    "data = np.array(data)"
   ]
  },
  {
   "cell_type": "markdown",
   "metadata": {},
   "source": [
    "## (n, 2) TEST BEGIN"
   ]
  },
  {
   "cell_type": "code",
   "execution_count": 174,
   "metadata": {},
   "outputs": [],
   "source": [
    "data = [\n",
    "    [1 ,2],\n",
    "    [2, 1],\n",
    "    [3, 1],\n",
    "    [3, 2],\n",
    "    [1, 1],\n",
    "    [8, 8],\n",
    "    [9, 9],\n",
    "    [8, 10],\n",
    "    [7, 9],\n",
    "    [6, 9],\n",
    "    [10, 8],\n",
    "    [10, 1],\n",
    "    [8, 3],\n",
    "    [7, 1],\n",
    "    [10, 2],\n",
    "    [9, 4]\n",
    "]\n",
    "data = np.array(data)"
   ]
  },
  {
   "cell_type": "markdown",
   "metadata": {},
   "source": [
    "## (n, 2) TEST END"
   ]
  },
  {
   "cell_type": "code",
   "execution_count": 4,
   "metadata": {},
   "outputs": [
    {
     "name": "stdout",
     "output_type": "stream",
     "text": [
      "K Values:  [770189.04530001362, 178408.40056733019, 44665.019586070761, 18847.472641906184, 12348.718000193581, 8194.216388458839, 6137.1397704595183, 5103.042213614387, 4399.4867201398265]\n"
     ]
    }
   ],
   "source": [
    "cluster_inertia = []\n",
    "for k in xrange(1, RANGE):\n",
    "    k_means_model = KMeans(n_clusters=k).fit(data)\n",
    "    cluster_inertia.append(k_means_model.inertia_)\n",
    "    \n",
    "print('K Values: ', cluster_inertia)"
   ]
  },
  {
   "cell_type": "code",
   "execution_count": 5,
   "metadata": {},
   "outputs": [
    {
     "data": {
      "text/plain": [
       "[<matplotlib.lines.Line2D at 0x7fcd67afbc10>]"
      ]
     },
     "execution_count": 5,
     "metadata": {},
     "output_type": "execute_result"
    },
    {
     "data": {
      "image/png": "[encoded data removed]",
      "text/plain": [
       "<matplotlib.figure.Figure at 0x7fcd6a6ee190>"
      ]
     },
     "metadata": {},
     "output_type": "display_data"
    }
   ],
   "source": [
    "plt.plot(xrange(1, RANGE), cluster_inertia, marker='o')"
   ]
  },
  {
   "cell_type": "code",
   "execution_count": 6,
   "metadata": {
    "scrolled": false
   },
   "outputs": [
    {
     "name": "stdout",
     "output_type": "stream",
     "text": [
      "[[  1.50882179e+09   4.16831683e+00   2.81188119e+00   5.05824354e-01\n",
      "    1.00990099e+00]\n",
      " [  1.50882157e+09   4.50000000e+00   1.50000000e+00   4.27811443e-01\n",
      "    9.00000000e-01]\n",
      " [  1.50882184e+09   4.53535354e+00   2.96969697e+00   4.40190160e-01\n",
      "    8.68686869e-01]]\n",
      "[1 1 1 1 1 1 1 1 1 1 0 0 0 0 0 0 0 0 0 0 0 0 0 0 0 0 0 0 0 0 0 0 0 0 0 0 0\n",
      " 0 0 0 0 0 0 0 0 0 0 0 0 0 0 0 0 0 0 0 0 0 0 0 0 0 0 0 0 0 0 0 0 0 0 0 0 0\n",
      " 0 0 0 0 0 0 0 0 0 0 0 0 0 0 0 0 0 0 0 0 0 0 0 0 0 0 0 0 0 0 0 0 0 0 0 0 0\n",
      " 2 2 2 2 2 2 2 2 2 2 2 2 2 2 2 2 2 2 2 2 2 2 2 2 2 2 2 2 2 2 2 2 2 2 2 2 2\n",
      " 2 2 2 2 2 2 2 2 2 2 2 2 2 2 2 2 2 2 2 2 2 2 2 2 2 2 2 2 2 2 2 2 2 2 2 2 2\n",
      " 2 2 2 2 2 2 2 2 2 2 2 2 2 2 2 2 2 2 2 2 2 2 2 2 2]\n"
     ]
    }
   ],
   "source": [
    "k_means_model = KMeans(n_clusters=3).fit(data)\n",
    "\n",
    "centroids = k_means_model.cluster_centers_\n",
    "labels = k_means_model.labels_\n",
    "\n",
    "print(centroids)\n",
    "print(labels)"
   ]
  },
  {
   "cell_type": "markdown",
   "metadata": {},
   "source": [
    "## (n, 2) TEST BEGIN"
   ]
  },
  {
   "cell_type": "code",
   "execution_count": 179,
   "metadata": {
    "scrolled": false
   },
   "outputs": [
    {
     "data": {
      "text/plain": [
       "<matplotlib.collections.PathCollection at 0x7f31869c0190>"
      ]
     },
     "execution_count": 179,
     "metadata": {},
     "output_type": "execute_result"
    },
    {
     "data": {
      "image/png": "[encoded data removed]",
      "text/plain": [
       "<matplotlib.figure.Figure at 0x7f3186c01e90>"
      ]
     },
     "metadata": {},
     "output_type": "display_data"
    }
   ],
   "source": [
    "colors = [\"g.\", \"r.\", \"c.\", \"y.\"]\n",
    "\n",
    "for i in range(len(data)):\n",
    "    plt.plot(data[i][0], data[i][1], colors[labels[i]], markersize=10)\n",
    "\n",
    "plt.scatter(centroids[:, 0], centroids[:, 1], marker=\"x\", s=100, linewidths=1, zorder=10)"
   ]
  },
  {
   "cell_type": "markdown",
   "metadata": {},
   "source": [
    "## (n, 2) TEST END"
   ]
  },
  {
   "cell_type": "code",
   "execution_count": 61,
   "metadata": {
    "scrolled": true
   },
   "outputs": [
    {
     "data": {
      "text/plain": [
       "array([[  59.        ,    2.15467447],\n",
       "       [   7.        ,    1.07736338],\n",
       "       [ 162.        ,    2.72028003]])"
      ]
     },
     "execution_count": 61,
     "metadata": {},
     "output_type": "execute_result"
    }
   ],
   "source": [
    "centroid_shape = centroids.shape[0]\n",
    "\n",
    "prototypes = np.zeros((centroid_shape, 2))\n",
    "\n",
    "for i in xrange(centroid_shape):\n",
    "    for j in xrange(labels.shape[0]):\n",
    "        if labels[j] == i:\n",
    "            dist = np.linalg.norm(centroids[i] - data[j])\n",
    "            \n",
    "            if not prototypes[i][1]:\n",
    "                prototypes[i][0] = j\n",
    "                prototypes[i][1] = dist\n",
    "                continue\n",
    "                \n",
    "            if dist < prototypes[i][1]:\n",
    "                prototypes[i][0] = j\n",
    "                prototypes[i][1] = dist\n",
    "                \n",
    "prototypes"
   ]
  },
  {
   "cell_type": "code",
   "execution_count": 10,
   "metadata": {
    "scrolled": true
   },
   "outputs": [
    {
     "name": "stdout",
     "output_type": "stream",
     "text": [
      "[  1.50882179e+09   5.00000000e+00   4.00000000e+00   5.83673957e-01\n",
      "   1.00000000e+00]\n",
      "[  1.50882157e+09   5.00000000e+00   1.00000000e+00   3.95011177e-01\n",
      "   1.00000000e+00]\n",
      "[  1.50882184e+09   3.00000000e+00   2.00000000e+00   3.36379766e-01\n",
      "   1.00000000e+00]\n"
     ]
    }
   ],
   "source": [
    "for i in xrange(prototypes.shape[0]):\n",
    "    print(data[int(prototypes[:, 0][i])])"
   ]
  },
  {
   "cell_type": "markdown",
   "metadata": {},
   "source": [
    "### The robot [action] when presented with a [type] query with a confidence [confidence]%.\n",
    "### Which action would you prefer for the robot to make next time:\n",
    "### 1 - Same action\n",
    "### 2, 3 - Next two"
   ]
  },
  {
   "cell_type": "code",
   "execution_count": 52,
   "metadata": {
    "scrolled": false
   },
   "outputs": [],
   "source": [
    "def survey_func(survey):\n",
    "    sys.stdout.write('The robot ')\n",
    "    if int(survey[4]) == 0:\n",
    "        sys.stdout.write('was fully autonomous')\n",
    "    elif int(survey[4]) == 1:\n",
    "        sys.stdout.write('stopped and waited for your input')\n",
    "    elif int(survey[4]) == 2:\n",
    "        sys.stdout.write('continued its task and asked for your answer later')\n",
    "\n",
    "    sys.stdout.write(' when presented with a ')\n",
    "\n",
    "    if int(survey[2]) == 0:\n",
    "        sys.stdout.write('visual')\n",
    "    elif int(survey[2]) == 1:\n",
    "        sys.stdout.write('tagging')\n",
    "    elif int(survey[2]) == 2:\n",
    "        sys.stdout.write('path')\n",
    "    elif int(survey[2]) == 3:\n",
    "        sys.stdout.write('communication')\n",
    "    elif int(survey[2]) == 4:\n",
    "        sys.stdout.write('robot health')\n",
    "    elif int(survey[2]) == 5:\n",
    "        sys.stdout.write('audio')\n",
    "    elif int(survey[2]) == 6:\n",
    "        sys.stdout.write('task')\n",
    "\n",
    "    sys.stdout.write(' query with a confidence of ')\n",
    "\n",
    "    sys.stdout.write('{}%\\n'.format(int(survey[3]*100)))\n",
    "    \n",
    "    sys.stdout.write('Which action would you prefer for the robot to make next time:\\n')\n",
    "    sys.stdout.write('1 - Same action\\n')\n",
    "    if int(survey[4]) == 0:\n",
    "        sys.stdout.write('2 - Stop and ask\\n')\n",
    "        sys.stdout.write('3 - Continue but still ask\\n')\n",
    "        \n",
    "        result = input()\n",
    "        if result == 1:\n",
    "            return survey[4]\n",
    "        elif result == 2:\n",
    "            return 2\n",
    "        elif result == 3:\n",
    "            return 3\n",
    "    elif int(survey[4]) == 1:\n",
    "        sys.stdout.write('2 - Fully autonomous\\n')\n",
    "        sys.stdout.write('3 - Continue but still ask\\n')\n",
    "        \n",
    "        result = input()\n",
    "        if result == 1:\n",
    "            return survey[4]\n",
    "        elif result == 2:\n",
    "            return 0\n",
    "        elif result == 3:\n",
    "            return 2\n",
    "    elif int(survey[4]) == 2:\n",
    "        sys.stdout.write('2 - Fully autonomous\\n')\n",
    "        sys.stdout.write('3 - Stop and ask\\n')\n",
    "        \n",
    "        result = input()\n",
    "        if result == 1:\n",
    "            return survey[4]\n",
    "        elif result == 2:\n",
    "            return 1\n",
    "        elif result == 3:\n",
    "            return 2"
   ]
  },
  {
   "cell_type": "code",
   "execution_count": 68,
   "metadata": {
    "scrolled": true
   },
   "outputs": [
    {
     "name": "stdout",
     "output_type": "stream",
     "text": [
      "The robot stopped and waited for your input when presented with a robot health query with a confidence of 58%\n",
      "Which action would you prefer for the robot to make next time:\n",
      "1 - Same action\n",
      "2 - Fully autonomous\n",
      "3 - Continue but still ask\n",
      "1\n",
      "The robot stopped and waited for your input when presented with a tagging query with a confidence of 39%\n",
      "Which action would you prefer for the robot to make next time:\n",
      "1 - Same action\n",
      "2 - Fully autonomous\n",
      "3 - Continue but still ask\n",
      "2\n",
      "The robot stopped and waited for your input when presented with a path query with a confidence of 33%\n",
      "Which action would you prefer for the robot to make next time:\n",
      "1 - Same action\n",
      "2 - Fully autonomous\n",
      "3 - Continue but still ask\n",
      "3\n"
     ]
    }
   ],
   "source": [
    "cluster_labels = dict()\n",
    "for p in prototypes[:, 0]:\n",
    "    preferred_action = survey_func(data[int(p)])\n",
    "    cluster_labels[labels[int(p)]] = preferred_action"
   ]
  },
  {
   "cell_type": "code",
   "execution_count": 69,
   "metadata": {},
   "outputs": [
    {
     "data": {
      "text/plain": [
       "{0: 1.0, 1: 0, 2: 2}"
      ]
     },
     "execution_count": 69,
     "metadata": {},
     "output_type": "execute_result"
    }
   ],
   "source": [
    "cluster_labels"
   ]
  },
  {
   "cell_type": "code",
   "execution_count": 11,
   "metadata": {},
   "outputs": [
    {
     "data": {
      "text/plain": [
       "array([2], dtype=int32)"
      ]
     },
     "execution_count": 11,
     "metadata": {},
     "output_type": "execute_result"
    }
   ],
   "source": [
    "k_means_model.predict([[2e+09, 8, 2, 2e-01, 0]])"
   ]
  }
 ],
 "metadata": {
  "kernelspec": {
   "display_name": "Python 2",
   "language": "python",
   "name": "python2"
  },
  "language_info": {
   "codemirror_mode": {
    "name": "ipython",
    "version": 2
   },
   "file_extension": ".py",
   "mimetype": "text/x-python",
   "name": "python",
   "nbconvert_exporter": "python",
   "pygments_lexer": "ipython2",
   "version": "2.7.12"
  }
 },
 "nbformat": 4,
 "nbformat_minor": 2
}
