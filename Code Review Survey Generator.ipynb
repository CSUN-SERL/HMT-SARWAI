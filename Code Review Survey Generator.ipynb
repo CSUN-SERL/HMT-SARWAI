{
 "cells": [
  {
   "cell_type": "code",
   "execution_count": 1,
   "metadata": {
    "collapsed": true
   },
   "outputs": [],
   "source": [
    "from __future__ import absolute_import\n",
    "from __future__ import division\n",
    "from __future__ import print_function"
   ]
  },
  {
   "cell_type": "code",
   "execution_count": 2,
   "metadata": {
    "collapsed": true
   },
   "outputs": [],
   "source": [
    "import pandas as pd\n",
    "import numpy as np\n",
    "import requests\n",
    "import os"
   ]
  },
  {
   "cell_type": "code",
   "execution_count": 3,
   "metadata": {
    "collapsed": true
   },
   "outputs": [],
   "source": [
    "ADDRESS = \"http://192.168.1.11\"\n",
    "PORT = 8000\n",
    "\n",
    "participant_preferences_url = \"{}:{}/iris/retrieve-participant-preferences\".format(ADDRESS, PORT)"
   ]
  },
  {
   "cell_type": "code",
   "execution_count": 4,
   "metadata": {
    "collapsed": true
   },
   "outputs": [],
   "source": [
    "participant_id = 0\n",
    "debrief = 0\n",
    "\n",
    "transparency = 1\n",
    "\n",
    "prototype_type = \"random\""
   ]
  },
  {
   "cell_type": "code",
   "execution_count": 5,
   "metadata": {
    "collapsed": false,
    "scrolled": true
   },
   "outputs": [],
   "source": [
    "json={\n",
    "    'participant_id': participant_id\n",
    "}\n",
    "\n",
    "req = requests.post(participant_preferences_url, json=json)\n",
    "if req.ok:\n",
    "    queries =pd.DataFrame(req.json()[\"data\"])\n",
    "    queries\n",
    "else:\n",
    "    # Stop, there will be no debrief!\n",
    "    pass"
   ]
  },
  {
   "cell_type": "code",
   "execution_count": 6,
   "metadata": {
    "collapsed": true
   },
   "outputs": [],
   "source": [
    "# Dataframe that will be used to upload question IDs for cluster prototypes to database.\n",
    "clusters_sql = pd.DataFrame(columns=['question_id', 'cluster_id', 'query_id'])"
   ]
  },
  {
   "cell_type": "code",
   "execution_count": 7,
   "metadata": {
    "collapsed": true
   },
   "outputs": [],
   "source": [
    "# Names of survey dataframe columns.\n",
    "survey_column_name = \"Survey Name\"\n",
    "question_column_name = \"Question\"\n",
    "type_column_name = \"Type\"\n",
    "offered_answers_name = \"Official Answers\""
   ]
  },
  {
   "cell_type": "code",
   "execution_count": 8,
   "metadata": {
    "collapsed": true
   },
   "outputs": [],
   "source": [
    "survey_csv = pd.DataFrame(columns=[survey_column_name, \n",
    "                                   question_column_name,\n",
    "                                   type_column_name, \n",
    "                                   offered_answers_name])"
   ]
  },
  {
   "cell_type": "code",
   "execution_count": 9,
   "metadata": {
    "collapsed": false
   },
   "outputs": [],
   "source": [
    "survey_csv.loc[0, survey_column_name] = \"Debrief, Mission {}, Participant {}\".format(debrief, participant_id)\n",
    "survey_csv.loc[1, survey_column_name] = \"Order\"\n",
    "survey_csv.loc[2, survey_column_name] = str(debrief)\n",
    "survey_csv.loc[3, survey_column_name] = \"Last Edited By\"\n",
    "survey_csv.loc[4, survey_column_name] = \"Python Script\"\n",
    "survey_csv.loc[5, survey_column_name] = \"Who knows?\""
   ]
  },
  {
   "cell_type": "code",
   "execution_count": 10,
   "metadata": {
    "collapsed": true
   },
   "outputs": [],
   "source": [
    "def select_random_queries(queries):\n",
    "        new_queries = queries.sample(frac=1).copy()\n",
    "        new_queries = new_queries.drop_duplicates(subset=['cluster_id'], keep='last')\n",
    "        new_queries = new_queries.reset_index()\n",
    "        return new_queries"
   ]
  },
  {
   "cell_type": "code",
   "execution_count": 11,
   "metadata": {
    "collapsed": false
   },
   "outputs": [
    {
     "ename": "ValueError",
     "evalue": "a must be greater than 0",
     "output_type": "error",
     "traceback": [
      "\u001b[0;31m---------------------------------------------------------------------------\u001b[0m",
      "\u001b[0;31mValueError\u001b[0m                                Traceback (most recent call last)",
      "\u001b[0;32m<ipython-input-11-cc2eec4026f5>\u001b[0m in \u001b[0;36m<module>\u001b[0;34m()\u001b[0m\n\u001b[1;32m      1\u001b[0m \u001b[1;32mif\u001b[0m \u001b[0mprototype_type\u001b[0m \u001b[1;33m==\u001b[0m \u001b[1;34m\"random\"\u001b[0m\u001b[1;33m:\u001b[0m\u001b[1;33m\u001b[0m\u001b[0m\n\u001b[0;32m----> 2\u001b[0;31m     \u001b[0mprototypes\u001b[0m \u001b[1;33m=\u001b[0m \u001b[0mselect_random_queries\u001b[0m\u001b[1;33m(\u001b[0m\u001b[0mqueries\u001b[0m\u001b[1;33m)\u001b[0m\u001b[1;33m\u001b[0m\u001b[0m\n\u001b[0m\u001b[1;32m      3\u001b[0m \u001b[1;32melse\u001b[0m\u001b[1;33m:\u001b[0m\u001b[1;33m\u001b[0m\u001b[0m\n\u001b[1;32m      4\u001b[0m     \u001b[1;31m# Do a different prototype selection method.\u001b[0m\u001b[1;33m\u001b[0m\u001b[1;33m\u001b[0m\u001b[0m\n\u001b[1;32m      5\u001b[0m     \u001b[1;32mpass\u001b[0m\u001b[1;33m\u001b[0m\u001b[0m\n",
      "\u001b[0;32m<ipython-input-10-85cb7dc93d41>\u001b[0m in \u001b[0;36mselect_random_queries\u001b[0;34m(queries)\u001b[0m\n\u001b[1;32m      1\u001b[0m \u001b[1;32mdef\u001b[0m \u001b[0mselect_random_queries\u001b[0m\u001b[1;33m(\u001b[0m\u001b[0mqueries\u001b[0m\u001b[1;33m)\u001b[0m\u001b[1;33m:\u001b[0m\u001b[1;33m\u001b[0m\u001b[0m\n\u001b[0;32m----> 2\u001b[0;31m         \u001b[0mnew_queries\u001b[0m \u001b[1;33m=\u001b[0m \u001b[0mqueries\u001b[0m\u001b[1;33m.\u001b[0m\u001b[0msample\u001b[0m\u001b[1;33m(\u001b[0m\u001b[0mfrac\u001b[0m\u001b[1;33m=\u001b[0m\u001b[1;36m1\u001b[0m\u001b[1;33m)\u001b[0m\u001b[1;33m.\u001b[0m\u001b[0mcopy\u001b[0m\u001b[1;33m(\u001b[0m\u001b[1;33m)\u001b[0m\u001b[1;33m\u001b[0m\u001b[0m\n\u001b[0m\u001b[1;32m      3\u001b[0m         \u001b[0mnew_queries\u001b[0m \u001b[1;33m=\u001b[0m \u001b[0mnew_queries\u001b[0m\u001b[1;33m.\u001b[0m\u001b[0mdrop_duplicates\u001b[0m\u001b[1;33m(\u001b[0m\u001b[0msubset\u001b[0m\u001b[1;33m=\u001b[0m\u001b[1;33m[\u001b[0m\u001b[1;34m'cluster_id'\u001b[0m\u001b[1;33m]\u001b[0m\u001b[1;33m,\u001b[0m \u001b[0mkeep\u001b[0m\u001b[1;33m=\u001b[0m\u001b[1;34m'last'\u001b[0m\u001b[1;33m)\u001b[0m\u001b[1;33m\u001b[0m\u001b[0m\n\u001b[1;32m      4\u001b[0m         \u001b[0mnew_queries\u001b[0m \u001b[1;33m=\u001b[0m \u001b[0mnew_queries\u001b[0m\u001b[1;33m.\u001b[0m\u001b[0mreset_index\u001b[0m\u001b[1;33m(\u001b[0m\u001b[1;33m)\u001b[0m\u001b[1;33m\u001b[0m\u001b[0m\n\u001b[1;32m      5\u001b[0m         \u001b[1;32mreturn\u001b[0m \u001b[0mnew_queries\u001b[0m\u001b[1;33m\u001b[0m\u001b[0m\n",
      "\u001b[0;32mC:\\Users\\eddyc\\Anaconda2\\lib\\site-packages\\pandas\\core\\generic.pyc\u001b[0m in \u001b[0;36msample\u001b[0;34m(self, n, frac, replace, weights, random_state, axis)\u001b[0m\n\u001b[1;32m   2570\u001b[0m                              \"provide positive value.\")\n\u001b[1;32m   2571\u001b[0m \u001b[1;33m\u001b[0m\u001b[0m\n\u001b[0;32m-> 2572\u001b[0;31m         \u001b[0mlocs\u001b[0m \u001b[1;33m=\u001b[0m \u001b[0mrs\u001b[0m\u001b[1;33m.\u001b[0m\u001b[0mchoice\u001b[0m\u001b[1;33m(\u001b[0m\u001b[0maxis_length\u001b[0m\u001b[1;33m,\u001b[0m \u001b[0msize\u001b[0m\u001b[1;33m=\u001b[0m\u001b[0mn\u001b[0m\u001b[1;33m,\u001b[0m \u001b[0mreplace\u001b[0m\u001b[1;33m=\u001b[0m\u001b[0mreplace\u001b[0m\u001b[1;33m,\u001b[0m \u001b[0mp\u001b[0m\u001b[1;33m=\u001b[0m\u001b[0mweights\u001b[0m\u001b[1;33m)\u001b[0m\u001b[1;33m\u001b[0m\u001b[0m\n\u001b[0m\u001b[1;32m   2573\u001b[0m         \u001b[1;32mreturn\u001b[0m \u001b[0mself\u001b[0m\u001b[1;33m.\u001b[0m\u001b[0mtake\u001b[0m\u001b[1;33m(\u001b[0m\u001b[0mlocs\u001b[0m\u001b[1;33m,\u001b[0m \u001b[0maxis\u001b[0m\u001b[1;33m=\u001b[0m\u001b[0maxis\u001b[0m\u001b[1;33m,\u001b[0m \u001b[0mis_copy\u001b[0m\u001b[1;33m=\u001b[0m\u001b[0mFalse\u001b[0m\u001b[1;33m)\u001b[0m\u001b[1;33m\u001b[0m\u001b[0m\n\u001b[1;32m   2574\u001b[0m \u001b[1;33m\u001b[0m\u001b[0m\n",
      "\u001b[0;32mmtrand.pyx\u001b[0m in \u001b[0;36mmtrand.RandomState.choice (numpy\\random\\mtrand\\mtrand.c:15381)\u001b[0;34m()\u001b[0m\n",
      "\u001b[0;31mValueError\u001b[0m: a must be greater than 0"
     ]
    }
   ],
   "source": [
    "if prototype_type == \"random\":\n",
    "    prototypes = select_random_queries(queries)\n",
    "else:\n",
    "    # Do a different prototype selection method.\n",
    "    pass"
   ]
  },
  {
   "cell_type": "code",
   "execution_count": null,
   "metadata": {
    "collapsed": true
   },
   "outputs": [],
   "source": [
    "def _high_transparency():\n",
    "    for index, query in queries.iterrows():\n",
    "\n",
    "        clusters_sql.loc[index,\"question_id\"]=index\n",
    "        clusters_sql.loc[index,\"cluster_id\"]=query[\"cluster_id\"]\n",
    "        clusters_sql.loc[index,\"query_id\"]=query[\"query_id\"]\n",
    "        survey_csv.loc[index,type_column_name]=\"Debrief\"\n",
    "        \n",
    "        if query['level_of_autonomy'] is 0:\n",
    "            survey_csv.loc[index,question_column_name]= (\n",
    "                'I asked Husky {0} to stop and wait '\n",
    "                'for your response to this {1} query with a {2}% confidence level. '\n",
    "                'How would you like me to handle similar queries next time?').format(\n",
    "                    query['robot_id'],\n",
    "                    query['type'],\n",
    "                    query['confidence'])\n",
    "            survey_csv.loc[index,offered_answers_name]=(\n",
    "                'Please ask a Husky to handle similar queries in the next mission|'\n",
    "                'Please ask a Husky to stop and wait until I answer similar queries in the next mission')\n",
    "        else:\n",
    "            survey_csv.loc[index,question_column_name]=(\n",
    "                'Husky {0} answered this {1} query, with a {2} confidence level'\n",
    "                'while you were tending to another query.'\n",
    "                'How would you like me to handle similar queries next time?').format(\n",
    "                    query[\"robot_id\"],\n",
    "                    query['type'],\n",
    "                    query['confidence'])\n",
    "\n",
    "            survey_csv.loc[index,offered_answers_name]=(\n",
    "                'Please ask a Husky to handle similar queries in the next mission|'\n",
    "                'Please ask a Husky to stop and wait until I answer similar queries in the next mission')\n"
   ]
  },
  {
   "cell_type": "code",
   "execution_count": null,
   "metadata": {
    "collapsed": true
   },
   "outputs": [],
   "source": [
    "def _low_transparency():\n",
    "    print (\"in low transparency\")\n",
    "    for index, query in queries.iterrows():\n",
    "\n",
    "        clusters_sql.loc[index,\"question_id\"]=index\n",
    "        clusters_sql.loc[index,\"cluster_id\"]=query[\"cluster_id\"]\n",
    "        clusters_sql.loc[index,\"query_id\"]=query[\"query_id\"]\n",
    "        survey_csv.loc[index,type_column_name]=\"Debrief\"\n",
    "        \n",
    "        if query['level_of_autonomy'] == 0:\n",
    "            survey_csv.loc[index,question_column_name]= ('This {0} query was answered by you. '\n",
    "                'How would you like me to handle similar queries next time?').format(query[\"type\"])\n",
    "            survey_csv.loc[index,offered_answers_name]=('Please ask a Husky to handle similar queries in the next mission|'\n",
    "                'Please ask a Husky to stop and wait until I answer similar queries in the next mission')\n",
    "        else:\n",
    "            survey_csv.loc[index,question_column_name]= ('This {0} query was answered by Husky {1} '\n",
    "                'while you were attending to another query. How would you like me to handle similar queries next time?').format(\n",
    "                query[\"robot_id\"],\n",
    "                query['type'])\n",
    "\n",
    "            survey_csv.loc[index,offered_answers_name]=('Please ask a Husky to handle similar queries in the next mission|' \n",
    "                'Please ask a Husky to stop and wait until I answer similar queries in the next mission')"
   ]
  },
  {
   "cell_type": "code",
   "execution_count": null,
   "metadata": {
    "collapsed": false
   },
   "outputs": [],
   "source": [
    "if transparency:\n",
    "    _high_transparency()\n",
    "else:\n",
    "    _low_transparency()"
   ]
  },
  {
   "cell_type": "code",
   "execution_count": null,
   "metadata": {
    "collapsed": false
   },
   "outputs": [],
   "source": [
    "# Remove NaN elements for readability in CSV.\n",
    "survey_csv = survey_csv.replace(np.nan, '', regex=True)\n",
    "\n",
    "outname = 'debrief{0}.csv'.format(debrief)\n",
    "outdir = 'debrief_surveys'\n",
    "\n",
    "if not os.path.exists(outdir):\n",
    "    os.mkdir(outdir)\n",
    "\n",
    "path = os.path.join(outdir, outname) \n",
    "\n",
    "survey_csv.to_csv(path, index=False)"
   ]
  },
  {
   "cell_type": "code",
   "execution_count": null,
   "metadata": {
    "collapsed": true
   },
   "outputs": [],
   "source": [
    "def send_query(query, URL):\n",
    "    iData = {\n",
    "                'sql': query,\n",
    "                'database': 'dbsurveys'\n",
    "            }\n",
    "    req = requests.post(url=URL, data=iData)\n",
    "    if \"200\" in req:\n",
    "        print(query)\n",
    "    print(req)\n",
    "    print(req.text)"
   ]
  },
  {
   "cell_type": "code",
   "execution_count": 1,
   "metadata": {
    "collapsed": false
   },
   "outputs": [
    {
     "ename": "NameError",
     "evalue": "name 'clusters_sql' is not defined",
     "output_type": "error",
     "traceback": [
      "\u001b[0;31m---------------------------------------------------------------------------\u001b[0m",
      "\u001b[0;31mNameError\u001b[0m                                 Traceback (most recent call last)",
      "\u001b[0;32m<ipython-input-1-0f0937b13670>\u001b[0m in \u001b[0;36m<module>\u001b[0;34m()\u001b[0m\n\u001b[0;32m----> 1\u001b[0;31m \u001b[1;33m[\u001b[0m\u001b[0mcluster\u001b[0m \u001b[1;32mfor\u001b[0m \u001b[0mindex\u001b[0m\u001b[1;33m,\u001b[0m \u001b[0mcluster\u001b[0m \u001b[1;32min\u001b[0m \u001b[0mclusters_sql\u001b[0m\u001b[1;33m.\u001b[0m\u001b[0miterrows\u001b[0m\u001b[1;33m(\u001b[0m\u001b[1;33m)\u001b[0m\u001b[1;33m]\u001b[0m\u001b[1;33m\u001b[0m\u001b[0m\n\u001b[0m",
      "\u001b[0;31mNameError\u001b[0m: name 'clusters_sql' is not defined"
     ]
    }
   ],
   "source": [
    "[cluster for index, cluster in clusters_sql.iterrows()]"
   ]
  },
  {
   "cell_type": "code",
   "execution_count": null,
   "metadata": {
    "collapsed": true
   },
   "outputs": [],
   "source": [
    "\",\".join()"
   ]
  },
  {
   "cell_type": "code",
   "execution_count": 79,
   "metadata": {
    "collapsed": true
   },
   "outputs": [],
   "source": [
    "def send_clusters():\n",
    "    iURL = 'http://192.168.1.11:8000/sql-temp/update'\n",
    "    sql_template = 'INSERT dbexperiment.cluster_question SET VALUE '\n",
    "    sql_template_value = '({0},{1})'\n",
    "    \n",
    "    query = sql_template\n",
    "    for index, cluster in clusters_sql.iterrows():\n",
    "        #print (cluster)\n",
    "        query += sql_template_value.format( \n",
    "            cluster['cluster_id'],\n",
    "            cluster['query_id'])\n",
    "    send_query(query, iURL)"
   ]
  },
  {
   "cell_type": "code",
   "execution_count": 80,
   "metadata": {
    "collapsed": false,
    "scrolled": true
   },
   "outputs": [
    {
     "name": "stdout",
     "output_type": "stream",
     "text": [
      "question_id      0\n",
      "cluster_id      -1\n",
      "query_id       643\n",
      "Name: 0, dtype: object\n",
      "<Response [200]>\n",
      "{\"response\":true,\"data\":{\"fieldCount\":0,\"affectedRows\":1,\"insertId\":0,\"serverStatus\":2,\"warningCount\":0,\"message\":\"(Rows matched: 1  Changed: 0  Warnings: 0\",\"protocol41\":true,\"changedRows\":0}}\n",
      "question_id      1\n",
      "cluster_id       0\n",
      "query_id       679\n",
      "Name: 1, dtype: object\n",
      "<Response [200]>\n",
      "{\"response\":true,\"data\":{\"fieldCount\":0,\"affectedRows\":1,\"insertId\":0,\"serverStatus\":2,\"warningCount\":0,\"message\":\"(Rows matched: 1  Changed: 0  Warnings: 0\",\"protocol41\":true,\"changedRows\":0}}\n",
      "question_id      2\n",
      "cluster_id      -1\n",
      "query_id       680\n",
      "Name: 2, dtype: object\n",
      "<Response [200]>\n",
      "{\"response\":true,\"data\":{\"fieldCount\":0,\"affectedRows\":1,\"insertId\":0,\"serverStatus\":2,\"warningCount\":0,\"message\":\"(Rows matched: 1  Changed: 0  Warnings: 0\",\"protocol41\":true,\"changedRows\":0}}\n",
      "question_id      3\n",
      "cluster_id      -1\n",
      "query_id       700\n",
      "Name: 3, dtype: object\n",
      "<Response [200]>\n",
      "{\"response\":true,\"data\":{\"fieldCount\":0,\"affectedRows\":1,\"insertId\":0,\"serverStatus\":2,\"warningCount\":0,\"message\":\"(Rows matched: 1  Changed: 0  Warnings: 0\",\"protocol41\":true,\"changedRows\":0}}\n",
      "question_id      4\n",
      "cluster_id      -1\n",
      "query_id       701\n",
      "Name: 4, dtype: object\n",
      "<Response [200]>\n",
      "{\"response\":true,\"data\":{\"fieldCount\":0,\"affectedRows\":1,\"insertId\":0,\"serverStatus\":2,\"warningCount\":0,\"message\":\"(Rows matched: 1  Changed: 0  Warnings: 0\",\"protocol41\":true,\"changedRows\":0}}\n",
      "question_id      5\n",
      "cluster_id      -1\n",
      "query_id       702\n",
      "Name: 5, dtype: object\n",
      "<Response [200]>\n",
      "{\"response\":true,\"data\":{\"fieldCount\":0,\"affectedRows\":1,\"insertId\":0,\"serverStatus\":2,\"warningCount\":0,\"message\":\"(Rows matched: 1  Changed: 0  Warnings: 0\",\"protocol41\":true,\"changedRows\":0}}\n",
      "question_id      6\n",
      "cluster_id      -1\n",
      "query_id       703\n",
      "Name: 6, dtype: object\n",
      "<Response [200]>\n",
      "{\"response\":true,\"data\":{\"fieldCount\":0,\"affectedRows\":1,\"insertId\":0,\"serverStatus\":2,\"warningCount\":0,\"message\":\"(Rows matched: 1  Changed: 0  Warnings: 0\",\"protocol41\":true,\"changedRows\":0}}\n",
      "question_id      7\n",
      "cluster_id      -1\n",
      "query_id       784\n",
      "Name: 7, dtype: object\n",
      "<Response [200]>\n",
      "{\"response\":true,\"data\":{\"fieldCount\":0,\"affectedRows\":1,\"insertId\":0,\"serverStatus\":2,\"warningCount\":0,\"message\":\"(Rows matched: 1  Changed: 0  Warnings: 0\",\"protocol41\":true,\"changedRows\":0}}\n",
      "question_id      8\n",
      "cluster_id      -1\n",
      "query_id       785\n",
      "Name: 8, dtype: object\n",
      "<Response [200]>\n",
      "{\"response\":true,\"data\":{\"fieldCount\":0,\"affectedRows\":1,\"insertId\":0,\"serverStatus\":2,\"warningCount\":0,\"message\":\"(Rows matched: 1  Changed: 0  Warnings: 0\",\"protocol41\":true,\"changedRows\":0}}\n",
      "question_id      9\n",
      "cluster_id      -1\n",
      "query_id       786\n",
      "Name: 9, dtype: object\n",
      "<Response [200]>\n",
      "{\"response\":true,\"data\":{\"fieldCount\":0,\"affectedRows\":1,\"insertId\":0,\"serverStatus\":2,\"warningCount\":0,\"message\":\"(Rows matched: 1  Changed: 0  Warnings: 0\",\"protocol41\":true,\"changedRows\":0}}\n",
      "question_id     10\n",
      "cluster_id      -1\n",
      "query_id       787\n",
      "Name: 10, dtype: object\n",
      "<Response [200]>\n",
      "{\"response\":true,\"data\":{\"fieldCount\":0,\"affectedRows\":1,\"insertId\":0,\"serverStatus\":2,\"warningCount\":0,\"message\":\"(Rows matched: 1  Changed: 0  Warnings: 0\",\"protocol41\":true,\"changedRows\":0}}\n"
     ]
    }
   ],
   "source": [
    "send_clusters()"
   ]
  }
 ],
 "metadata": {
  "anaconda-cloud": {},
  "kernelspec": {
   "display_name": "Python 2",
   "language": "python",
   "name": "python2"
  },
  "language_info": {
   "codemirror_mode": {
    "name": "ipython",
    "version": 2
   },
   "file_extension": ".py",
   "mimetype": "text/x-python",
   "name": "python",
   "nbconvert_exporter": "python",
   "pygments_lexer": "ipython2",
   "version": "2.7.12"
  }
 },
 "nbformat": 4,
 "nbformat_minor": 1
}
