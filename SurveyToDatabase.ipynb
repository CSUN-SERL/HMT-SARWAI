{
 "cells": [
  {
   "cell_type": "code",
   "execution_count": 73,
   "metadata": {
    "collapsed": true
   },
   "outputs": [],
   "source": [
    "from __future__ import print_function\n",
    "\n",
    "import pandas as pd\n",
    "import numpy as np\n",
    "import requests\n",
    "from threading import Thread\n",
    "import glob"
   ]
  },
  {
   "cell_type": "code",
   "execution_count": 74,
   "metadata": {
    "collapsed": false
   },
   "outputs": [
    {
     "data": {
      "text/plain": [
       "['./surveys/NASA-TLX Rating Scale (4,every mission debrief).csv',\n",
       " './surveys/NASA-TLX Weighted Scale (21).csv',\n",
       " './surveys/2nd Trust Survey (5,non-adaptive,every mission debrief).csv',\n",
       " './surveys/1st Trust Survey - (3).csv',\n",
       " './surveys/End of Experiment Survey (20).csv',\n",
       " './surveys/2nd Trust Survey (6,adaptive, every mission debrief).csv',\n",
       " './surveys/Demographic Survey (1).csv',\n",
       " './surveys/IPIP Survey (2).csv']"
      ]
     },
     "execution_count": 74,
     "metadata": {},
     "output_type": "execute_result"
    }
   ],
   "source": [
    "files = glob.glob('./surveys/*.csv')\n",
    "files"
   ]
  },
  {
   "cell_type": "code",
   "execution_count": 131,
   "metadata": {
    "collapsed": true
   },
   "outputs": [],
   "source": [
    "class upload_surveys:\n",
    "    #requires a survey folder\n",
    "    #requires a debrief folder\n",
    "    def __init__(self,path=\"./surveys/*.csv\"):\n",
    "        self.path = path\n",
    "        self.survey_column_name = \"Survey Name\"\n",
    "        self.question_column_name = \"Question\"\n",
    "        self.type_column_name = \"Type\"\n",
    "        self.offered_answers_name = \"Official Answers\"\n",
    "        iURL = 'http://192.168.1.11:8000/sql-temp/insert'\n",
    "        threadpool = []\n",
    "        for fname in glob.glob(self.path):\n",
    "            t = Thread(target= self.upload_survey, args=(fname,iURL,))\n",
    "            threadpool.append(t)\n",
    "        for t in threadpool:\n",
    "            t.start()\n",
    "        for t in threadpool:\n",
    "            t.join()\n",
    "        \n",
    "    def send_query(self,query,URL):\n",
    "        iData = {\n",
    "                    'sql': query,\n",
    "                    'database': 'dbsurveys'\n",
    "                }\n",
    "        \n",
    "        #print (iData)\n",
    "        req = requests.post(url=URL, data=iData)\n",
    "        #if \"200\" in req:\n",
    "         #   print(query)\n",
    "        #print(req)\n",
    "        #print(req.text)\n",
    "    def remove_survey (self,survey_id):\n",
    "        iData = {\n",
    "                    'survey_id': survey_id\n",
    "                }\n",
    "        URL = 'http://192.168.1.11:8000/survey/remove-survey'\n",
    "        #print (iData)\n",
    "        req = requests.post(url=URL, data=iData)\n",
    "\n",
    "    def upload_survey(self,path,iURL):\n",
    "        \n",
    "        data = pd.read_csv(path)\n",
    "        #print (data.iloc[0][0])\n",
    "        #print (data.iloc[2][0])\n",
    "        survey_name = data.iloc[0][0]\n",
    "        survey_id = int(data.iloc[2][0])\n",
    "        self.remove_survey(survey_id)\n",
    "        print(list(data)[1])\n",
    "        \n",
    "        \n",
    "        #Mr. Clean\n",
    "        data.drop([list(data)[0]],axis=1,inplace=True)\n",
    "        #data.replace(r'\\s', '', regex=True,inplace=True)\n",
    "        data[self.question_column_name] = data[self.question_column_name].str.strip(' ')\n",
    "        data.replace('', np.nan, regex=True,inplace=True)\n",
    "        data.dropna(axis=0,how='all',inplace=True)\n",
    "        \n",
    "        \n",
    "        #will craete a new entry if it does not already exists\n",
    "        survey_query =(\"INSERT INTO dbsurveys.survey (id, description)\" + \n",
    "                        \"SELECT * FROM (SELECT '{0}', '{1}') AS tmp \" + \n",
    "                        \"WHERE NOT EXISTS (\" + \n",
    "                        \"SELECT description FROM dbsurveys.survey \" +\n",
    "                        \"WHERE description = '{1}') LIMIT 1;\")\n",
    "        survey_query = survey_query.format(survey_id,survey_name)\n",
    "\n",
    "        question_query = \"INSERT INTO dbsurveys.question (id, type, question_text) VALUE \"\n",
    "        offered_answer_query = \"INSERT INTO dbsurveys.offered_answer (id, offered_answer_text) VALUE\"\n",
    "        survey_question_query = \"INSERT INTO dbsurveys.survey_question (survey_id, question_id) VALUE \"\n",
    "        question_offered_answer_query =  \"INSERT INTO dbsurveys.question_answer (question_id, offered_answer_id) VALUE \"\n",
    "        \n",
    "        answers = []\n",
    "        #print (data)\n",
    "        for i, row in data.iterrows():\n",
    "            index = i + survey_id*100\n",
    "            \n",
    "            \n",
    "            question_text = str(row[self.question_column_name]).replace(\"'\", \"\\\\'\")\n",
    "            question_type = str(row[self.type_column_name]).replace(\"'\", \"\\\\'\")\n",
    "            \n",
    "            offered_answer = \"\"\n",
    "            if(pd.isnull(row[self.offered_answers_name])):\n",
    "                offered_answer_text = \"\"\n",
    "                offered_answer_query += \"('{0}', '{1}')\".format(index, offered_answer_text)\n",
    "            else:\n",
    "                offered_answer_text = str(row[self.offered_answers_name]).replace(\"'\", \"\\\\'\")\n",
    "                offered_answer_query += \"('{0}','{1}')\".format(index, offered_answer_text)\n",
    "            question_query += \"('{0}', '{1}', '{2}')\".format(index,question_type, question_text)\n",
    "            survey_question_query += \"('{0}','{1}')\".format(survey_id,index)\n",
    "            question_offered_answer_query += \"('{0}','{1}')\".format(index,index)\n",
    "            #if index > 5:\n",
    "             #       break\n",
    "\n",
    "            if i < len(data.index) - 1:\n",
    "                question_query += \",\"\n",
    "                offered_answer_query += \",\"\n",
    "                survey_question_query += \",\"\n",
    "                question_offered_answer_query += \",\"\n",
    "          \n",
    "           \n",
    "        question_query += \";\\n\\n\"\n",
    "        offered_answer_query += \";\\n\\n\"\n",
    "        survey_question_query += \";\\n\\n\"\n",
    "        question_offered_answer_query += \";\\n\\n\"\n",
    "\n",
    "        #breaks post request for me\n",
    "        query = survey_query+ question_query + offered_answer_query + survey_question_query + question_offered_answer_query    \n",
    "        print (\"path = \"+ path + \"\\n\\n\" + question_query)\n",
    "        self.send_query(survey_query , iURL)\n",
    "        self.send_query(question_query , iURL)\n",
    "        self.send_query(offered_answer_query , iURL)\n",
    "        self.send_query(survey_question_query , iURL)\n",
    "        self.send_query(question_offered_answer_query , iURL)\n",
    "        \n",
    "        \n",
    "        #req = requests.post(url=iURL, data=iData)"
   ]
  },
  {
   "cell_type": "code",
   "execution_count": 132,
   "metadata": {
    "collapsed": false
   },
   "outputs": [
    {
     "name": "stdout",
     "output_type": "stream",
     "text": [
      "Question\n",
      "Question\n",
      "Question\n",
      "QuestionQuestion\n",
      "Question\n",
      "\n",
      "Question\n",
      "path = ./surveys/NASA-TLX Weighted Scale (21).csv\n",
      "\n",
      "INSERT INTO dbsurveys.question (id, type, question_text) VALUE ('2100', 'Intro', 'You will be presented with a series of pairs of rating scale titles (for example,  Effort vs. Mental Demand) and asked to choose which of the items was more important to your experience of workload in the tasks) that you just performed. \n",
      "\n",
      "Each pair of scale titles will appear one set at a time. \n",
      "Please select the Scale Title that represents the more important contributor to workload for the specific tasks you performed in this experiment.\n",
      "\n",
      "You may click “begin survey” whenever you are ready.\n",
      "'),('2101', 'Multiple', 'Please select the Scale Title that represents the more important contributor to workload.'),('2102', 'Multiple', 'Please select the Scale Title that represents the more important contributor to workload.'),('2103', 'Multiple', 'Please select the Scale Title that represents the more important contributor to workload.'),('2104', 'Multiple', 'Please select the Scale Title that represents the more important contributor to workload.'),('2105', 'Multiple', 'Please select the Scale Title that represents the more important contributor to workload.'),('2106', 'Multiple', 'Please select the Scale Title that represents the more important contributor to workload.'),('2107', 'Multiple', 'Please select the Scale Title that represents the more important contributor to workload.'),('2108', 'Multiple', 'Please select the Scale Title that represents the more important contributor to workload.'),('2109', 'Multiple', 'Please select the Scale Title that represents the more important contributor to workload.'),('2110', 'Multiple', 'Please select the Scale Title that represents the more important contributor to workload.'),('2111', 'Multiple', 'Please select the Scale Title that represents the more important contributor to workload.'),('2112', 'Multiple', 'Please select the Scale Title that represents the more important contributor to workload.'),('2113', 'Multiple', 'Please select the Scale Title that represents the more important contributor to workload.'),('2114', 'Multiple', 'Please select the Scale Title that represents the more important contributor to workload.'),('2115', 'Multiple', 'Please select the Scale Title that represents the more important contributor to workload.'),('2116', 'Outro', 'Thank you for participating! You will now participate in the last survey. Please click \"next\" to continue.');\n",
      "\n",
      "path = ./surveys/End of Experiment Survey (20).csv\n",
      "\n",
      "INSERT INTO dbsurveys.question (id, type, question_text) VALUE ('2000', 'Intro', 'Please read each statement carefully and select the answer that most accurately describes your feelings. When asked for an explanation, please answer as thoroughly as possible.\n",
      "\n",
      "You may click “begin survey” when you are ready.\n",
      "'),('2001', 'Multiple', 'Were the mission objectives clear? If not, please explain in the space below.'),('2002', 'Multiple', 'Were the mission objectives attainable? If not, please explain in the space below.'),('2003', 'Scalar', 'Overall, I would trust this system to assist me in saving lives. If you rated this 3 or below please explain why in the space below.'),('2004', 'Scalar', 'I would be comfortable allowing this system to make all decisions. If you rated this 3 or below please explain why in the space below.'),('2005', 'Scalar', 'I would be comfortable relying on robots in future search and rescue missions. If you rated this 3 or below please explain why in the space below'),('2006', 'Scalar', 'I would be comfortable having a search and rescue team member rely upon this system. If you rated this 3 or below please explain why in the space below.'),('2007', 'Scalar', 'I would be comfortable if I personally relied upon this system. If you rated this 3 or below please explain why in the space below.'),('2008', 'Multiple', 'How difficult was it to perform the query task? If you rated this 3 or higher please explain in the space below.'),('2009', 'Multiple', 'How difficult was it to perform the live feed tasks? If you rated this 3 or higher please explain in the space below.'),('2010', 'Multiple', 'How difficult was it to perform the query task and the live feed task simultaneously? If you rated this 3 or higher please explain in the space below.'),('2011', 'Scalar', 'If I was face with a similar task in the future, I would want to have this system with me. If you rated this 3 or below please explain in the space below.'),('2012', 'Multiple', 'Over trials, did your trust increase, decrease, or stay the same? If your trust increased or decreased please explain why in the space below.'),('2013', 'Multiple', 'Did the number and/or type of queries change over trials? If yes, please explain how the number and/or type of queries changed over trials in the space below.'),('2014', 'Multiple', 'Over trials did you notice that the way the system operated changed for the better, changed for the worse, changed but not for the better or worse, or remained the same? If it changed, please explain how it changed in the space below.'),('2015', 'Outro', 'Thank you for participating in the surveys! The Researcher will now interview you and tell you more about the experiment.');\n",
      "\n",
      "path = ./surveys/2nd Trust Survey (6,adaptive, every mission debrief).csv\n",
      "\n",
      "INSERT INTO dbsurveys.question (id, type, question_text) VALUE ('600', 'Intro', 'Please read each statement carefully and choose the answer that most accurately describes your feelings. If you have any questions, please ask the Researcher at any time. You may click “begin” whenever you are ready.\n",
      "'),('601', 'Scalar', 'The overall system is reliable'),('602', 'Scalar', 'The system communicates all necessary information effectively'),('603', 'Scalar', 'All the information provided by the system is accurate'),('604', 'Scalar', 'The victim detections sent from the robots are reliable (the robot reliably detected victims and ignored non-victims)'),('605', 'Scalar', 'I trust the overall system'),('606', 'Scalar', 'The actions of the system are understandable'),('607', 'Scalar', 'The actions of the system are predictable'),('608', 'Scalar', 'When the judgment was difficult, I felt like I could depend on the system'),('609', 'Scalar', 'The system used my feedback effectively'),('610', 'Scalar', 'My expectations of the system\\'s performance were met'),('611', 'Outro', 'Thank you for participating! Please click \"next\" to continue.');\n",
      "\n",
      "\n",
      "\n",
      "\n",
      "path = ./surveys/2nd Trust Survey (5,non-adaptive,every mission debrief).csv\n",
      "\n",
      "INSERT INTO dbsurveys.question (id, type, question_text) VALUE ('500', 'Intro', 'Please read each statement carefully and choose the answer that most accurately describes your feelings. If you have any questions, please ask the Researcher at any time. You may click “begin” whenever you are ready.\n",
      "'),('501', 'Scalar', 'The overall system is reliable'),('502', 'Scalar', 'The system communicates all necessary information effectively'),('503', 'Scalar', 'All the information provided by the system is accurate'),('504', 'Scalar', 'The victim detections sent from the robots are reliable (the robot reliably detected victims and ignored non-victims)'),('505', 'Scalar', 'I trust the overall system'),('506', 'Scalar', 'The actions of the system are understandable'),('507', 'Scalar', 'The actions of the system are predictable'),('508', 'Scalar', 'When the judgment was difficult, I felt like I could depend on the system'),('509', 'Outro', 'Thank you for participating! Please click \"next\" to continue.');\n",
      "\n",
      "path = ./surveys/1st Trust Survey - (3).csv\n",
      "\n",
      "INSERT INTO dbsurveys.question (id, type, question_text) VALUE ('300', 'Intro', 'Please read each statement carefully and choose the answer that most accurately describes your feelings. If you have any questions, please ask the Researcher at any time. You may click \"begin\" whenever you are ready.'),('301', 'Scalar', 'I usually trust machines until there is a reason not to.'),('302', 'Scalar', 'For the most part, I distrust machines.'),('303', 'Scalar', 'In general, I would rely on a machine to assist me.'),('304', 'Scalar', 'My tendency to trust machines is high.'),('305', 'Scalar', 'It is easy for me to trust machines to do their job.'),('306', 'Scalar', 'I am likely to trust a machine even when I have little knowledge about it.'),('307', 'Outro', 'Thank you for participating! Please click \"next\" to continue.');\n",
      "\n",
      "Question\n",
      "path = ./surveys/NASA-TLX Rating Scale (4,every mission debrief).csv\n",
      "\n",
      "INSERT INTO dbsurveys.question (id, type, question_text) VALUE ('400', 'Intro', 'We are not only interested in assessing your performance but also the experiences you had during the different task conditions. In the most general sense we are examining the “workload\" you experienced. The factors that influence your experience of workload may come from the task itself, your feelings about your own performance, how much effort you put in, or the stress and frustration you felt.\n",
      "\n",
      "The workload contributed by different task elements may change as you get more familiar with a task, perform easier or harder versions of it, or move from one task to another. Please read the descriptions of the scales carefully. If you have a question about any of the scales, please ask the Researcher about it. \n",
      "It is extremely important that they be clear to you.\n",
      " \n",
      "Please consider your responses carefully in distinguishing among the different task conditions. Your ratings will play an important role in the evaluation being conducted, thus your active participation is essential to the success of this experiment and is greatly appreciated by all of us.\n",
      "\n",
      "If you have any questions, please ask the Researcher at any time. You may click “begin” whenever you are ready.\n",
      "'),('401', 'TLX', 'How much mental and perceptual activity was required (e.g. thinking, deciding, calculating, remembering, looking, searching, etc.)? Was the task easy or demanding, simple or complex, exacting or forgiving?'),('402', 'TLX', 'How much physical activity was required (e.g. pushing, pulling, turning, controlling, activating, etc.)? Was the task easy or demanding, slow or brisk, slack or strenuous, restful or laborious?'),('403', 'TLX', 'How much time pressure did you feel due to the rate or pace at which the task or task elements occurred? Was the pace slow or leisurely or rapid and frantic?'),('404', 'TLX', 'How successful do you think you were in accomplishing the goals of the task set by the experimenter? How satisfied were you with your performance in accomplishing these goals?'),('405', 'TLX', 'How hard did you have to work (mentally and physically) to accomplish your level of performance?'),('406', 'TLX', 'How insecure, discouraged, irritated, stressed, and annoyed versus secure, gratified, content, relaxed and complacent did you feel during the task?'),('407', 'TLX', 'Taking into account all of the above scales, what was your overall workload?'),('408', 'Outro', 'Thank you for participating! Please click \"next\" to continue.');\n",
      "\n",
      "\n",
      "\n",
      "\n",
      "path = ./surveys/Demographic Survey (1).csv\n",
      "\n",
      "INSERT INTO dbsurveys.question (id, type, question_text) VALUE ('100', 'Intro', 'Please answer each question to the best of your ability. If you have any questions, please ask the Researcher at any time. You may click \"begin\" whenever you are ready.'),('101', 'Numerical', 'What is your age?'),('102', 'Multiple', 'To what gender do you most identify with?'),('103', 'Multiple', 'How often do you play video games?'),('104', 'Multiple', 'What is your level of experience/proficiency with computers?'),('105', 'PickAll', 'Check all items that you use on a weekly basis:'),('106', 'FreeResponse', 'What organization do you work for?'),('107', 'FreeResponse', 'What is your profession?'),('108', 'Numerical', 'How many years of experience do you have in your current profession?'),('109', 'Outro', 'Thank you for participating! You will now be given your next set of questions. Please click \"next\" to continue.');\n",
      "\n",
      "\n",
      "path = ./surveys/IPIP Survey (2).csv\n",
      "\n",
      "INSERT INTO dbsurveys.question (id, type, question_text) VALUE ('200', 'Intro', 'As you read each question, think about how you see yourself as you honestly see yourself in relation to other people you know of the same sex as you are and roughly your same age. Please choose the answer that best describes yourself as you generally are now, not as you wish to be in the future. If you have any questions, please ask the Researcher at any time. You may click “begin” whenever you are ready\n",
      "'),('201', 'Scalar', 'I am the life of the party'),('202', 'Scalar', 'I feel little concern for others'),('203', 'Scalar', 'I am always prepared'),('204', 'Scalar', 'I get stressed out easily'),('205', 'Scalar', 'I have a rich vocabulary'),('206', 'Scalar', 'I don\\'t talk a lot'),('207', 'Scalar', 'I am interested in people'),('208', 'Scalar', 'I leave my belongings around'),('209', 'Scalar', 'I am relaxed most of the time'),('210', 'Scalar', 'I have difficulty understanding abstract ideas'),('211', 'Scalar', 'I feel comfortable around people'),('212', 'Scalar', 'I insult people'),('213', 'Scalar', 'I pay attention to details'),('214', 'Scalar', 'I worry about things.'),('215', 'Scalar', 'I have a vivid imagination.'),('216', 'Scalar', 'I keep in the background.'),('217', 'Scalar', 'I sympathize with others\\' feelings.'),('218', 'Scalar', 'I make a mess of things.'),('219', 'Scalar', 'I seldom feel blue.'),('220', 'Scalar', 'I am not interested in abstract ideas.'),('221', 'Scalar', 'I start conversations.'),('222', 'Scalar', 'I am not interested in other people\\'s problems.'),('223', 'Scalar', 'I get chores done right away.'),('224', 'Scalar', 'I am easily disturbed.'),('225', 'Scalar', 'I have excellent ideas.'),('226', 'Scalar', 'I have little to say.'),('227', 'Scalar', 'I have a soft heart.'),('228', 'Scalar', 'I often forget to put things back in their proper place.'),('229', 'Scalar', 'I get upset easily.'),('230', 'Scalar', 'I do not have a good imagination.'),('231', 'Scalar', 'I talk to a lot of different people at parties.'),('232', 'Scalar', 'I am not really interested in others.'),('233', 'Scalar', 'I like order.'),('234', 'Scalar', 'I change my mood a lot.'),('235', 'Scalar', 'I am quick to understand things.'),('236', 'Scalar', 'I don\\'t like to draw attention to myself.'),('237', 'Scalar', 'I take time out for others.'),('238', 'Scalar', 'I shirk my duties.'),('239', 'Scalar', 'I have frequent mood swings.'),('240', 'Scalar', 'I use difficult words.'),('241', 'Scalar', 'I don\\'t mind being the center of attention.'),('242', 'Scalar', 'I feel others\\' emotions.'),('243', 'Scalar', 'I follow a schedule.'),('244', 'Scalar', 'I get irritated easily.'),('245', 'Scalar', 'I spend time reflecting on things.'),('246', 'Scalar', 'I am quiet around strangers.'),('247', 'Scalar', 'I make people feel at ease.'),('248', 'Scalar', 'I am exacting in my work.'),('249', 'Scalar', 'I often feel blue.'),('250', 'Scalar', 'I am full of ideas.'),('251', 'Outro', 'Thank you for participating! You will now be given your last set of questions. Please click \"next\" to continue.');\n",
      "\n",
      "\n"
     ]
    },
    {
     "data": {
      "text/plain": [
       "<__main__.upload_surveys instance at 0x7f46fcbc50e0>"
      ]
     },
     "execution_count": 132,
     "metadata": {},
     "output_type": "execute_result"
    }
   ],
   "source": [
    "path = \"./surveys/*.csv\"\n",
    "upload_surveys()\n",
    "\n"
   ]
  },
  {
   "cell_type": "code",
   "execution_count": 17,
   "metadata": {
    "collapsed": true
   },
   "outputs": [],
   "source": [
    "survey_id = 4\n",
    "iData = {\n",
    "            'survey_id': survey_id\n",
    "        }\n",
    "URL = 'http://ec2-52-24-126-225.us-west-2.compute.amazonaws.com:81/survey/remove-survey'\n",
    "#print (iData)\n",
    "req = requests.post(url=URL, data=iData)"
   ]
  },
  {
   "cell_type": "code",
   "execution_count": 62,
   "metadata": {
    "collapsed": false
   },
   "outputs": [
    {
     "data": {
      "text/html": [
       "<div>\n",
       "<style>\n",
       "    .dataframe thead tr:only-child th {\n",
       "        text-align: right;\n",
       "    }\n",
       "\n",
       "    .dataframe thead th {\n",
       "        text-align: left;\n",
       "    }\n",
       "\n",
       "    .dataframe tbody tr th {\n",
       "        vertical-align: top;\n",
       "    }\n",
       "</style>\n",
       "<table border=\"1\" class=\"dataframe\">\n",
       "  <thead>\n",
       "    <tr style=\"text-align: right;\">\n",
       "      <th></th>\n",
       "      <th>a</th>\n",
       "    </tr>\n",
       "  </thead>\n",
       "  <tbody>\n",
       "    <tr>\n",
       "      <th>0</th>\n",
       "      <td></td>\n",
       "    </tr>\n",
       "    <tr>\n",
       "      <th>1</th>\n",
       "      <td></td>\n",
       "    </tr>\n",
       "    <tr>\n",
       "      <th>2</th>\n",
       "      <td>asasd</td>\n",
       "    </tr>\n",
       "  </tbody>\n",
       "</table>\n",
       "</div>"
      ],
      "text/plain": [
       "       a\n",
       "0       \n",
       "1       \n",
       "2  asasd"
      ]
     },
     "execution_count": 62,
     "metadata": {},
     "output_type": "execute_result"
    }
   ],
   "source": [
    "df = pd.DataFrame({'a':['',' ','asasd']})\n",
    "df"
   ]
  },
  {
   "cell_type": "code",
   "execution_count": 64,
   "metadata": {
    "collapsed": false
   },
   "outputs": [
    {
     "data": {
      "text/html": [
       "<div>\n",
       "<style>\n",
       "    .dataframe thead tr:only-child th {\n",
       "        text-align: right;\n",
       "    }\n",
       "\n",
       "    .dataframe thead th {\n",
       "        text-align: left;\n",
       "    }\n",
       "\n",
       "    .dataframe tbody tr th {\n",
       "        vertical-align: top;\n",
       "    }\n",
       "</style>\n",
       "<table border=\"1\" class=\"dataframe\">\n",
       "  <thead>\n",
       "    <tr style=\"text-align: right;\">\n",
       "      <th></th>\n",
       "      <th>a</th>\n",
       "    </tr>\n",
       "  </thead>\n",
       "  <tbody>\n",
       "    <tr>\n",
       "      <th>0</th>\n",
       "      <td></td>\n",
       "    </tr>\n",
       "    <tr>\n",
       "      <th>1</th>\n",
       "      <td>NaN</td>\n",
       "    </tr>\n",
       "    <tr>\n",
       "      <th>2</th>\n",
       "      <td>asasd</td>\n",
       "    </tr>\n",
       "  </tbody>\n",
       "</table>\n",
       "</div>"
      ],
      "text/plain": [
       "       a\n",
       "0       \n",
       "1    NaN\n",
       "2  asasd"
      ]
     },
     "execution_count": 64,
     "metadata": {},
     "output_type": "execute_result"
    }
   ],
   "source": [
    "df.replace(r'\\s+',np.nan,regex=True)"
   ]
  },
  {
   "cell_type": "code",
   "execution_count": 104,
   "metadata": {
    "collapsed": false
   },
   "outputs": [
    {
     "data": {
      "text/plain": [
       "' '"
      ]
     },
     "execution_count": 104,
     "metadata": {},
     "output_type": "execute_result"
    }
   ],
   "source": [
    "x = ' '\n",
    "x"
   ]
  },
  {
   "cell_type": "code",
   "execution_count": 124,
   "metadata": {
    "collapsed": false
   },
   "outputs": [
    {
     "data": {
      "text/plain": [
       "''"
      ]
     },
     "execution_count": 124,
     "metadata": {},
     "output_type": "execute_result"
    }
   ],
   "source": [
    "x.strip(' ')"
   ]
  },
  {
   "cell_type": "code",
   "execution_count": 108,
   "metadata": {
    "collapsed": false
   },
   "outputs": [
    {
     "data": {
      "text/plain": [
       "[32]"
      ]
     },
     "execution_count": 108,
     "metadata": {},
     "output_type": "execute_result"
    }
   ],
   "source": [
    "[ord(c) for c in x]"
   ]
  },
  {
   "cell_type": "code",
   "execution_count": null,
   "metadata": {
    "collapsed": true
   },
   "outputs": [],
   "source": []
  }
 ],
 "metadata": {
  "anaconda-cloud": {},
  "kernelspec": {
   "display_name": "Python 2",
   "language": "python",
   "name": "python2"
  },
  "language_info": {
   "codemirror_mode": {
    "name": "ipython",
    "version": 2
   },
   "file_extension": ".py",
   "mimetype": "text/x-python",
   "name": "python",
   "nbconvert_exporter": "python",
   "pygments_lexer": "ipython2",
   "version": "2.7.12"
  }
 },
 "nbformat": 4,
 "nbformat_minor": 1
}
